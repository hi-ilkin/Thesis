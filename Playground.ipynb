{
 "cells": [
  {
   "cell_type": "markdown",
   "id": "above-costs",
   "metadata": {},
   "source": [
    "# Misc"
   ]
  },
  {
   "cell_type": "code",
   "execution_count": null,
   "id": "powered-navigation",
   "metadata": {
    "ExecuteTime": {
     "end_time": "2021-03-07T15:39:40.789749Z",
     "start_time": "2021-03-07T15:39:40.562749Z"
    }
   },
   "outputs": [],
   "source": [
    "# changing theme\n",
    "# !jt -t chesterish \n",
    "# !jt -t onedork -fs 100 -altp -tfs 14 -nfs 115 -T\n",
    "# restore default theme\n",
    "!jt -r"
   ]
  },
  {
   "cell_type": "markdown",
   "id": "atmospheric-journalist",
   "metadata": {},
   "source": [
    "# Comparing fake and real faces"
   ]
  },
  {
   "cell_type": "code",
   "execution_count": null,
   "id": "right-massage",
   "metadata": {
    "ExecuteTime": {
     "end_time": "2021-03-07T17:16:56.229998Z",
     "start_time": "2021-03-07T17:16:53.015998Z"
    },
    "scrolled": true
   },
   "outputs": [],
   "source": [
    "import sys \n",
    "sys.path.append(r'C:\\Users\\Jonas\\PycharmProjects\\IlkinThesis\\ThesisExperiments')\n",
    "from IPython.display import Image, Video\n",
    "\n",
    "import cv2\n",
    "import os\n",
    "import glob\n",
    "import numpy as np\n",
    "import pandas as pd\n",
    "import matplotlib.pyplot as plt\n",
    "\n",
    "from sklearn.cluster import AgglomerativeClustering\n",
    "\n",
    "import config\n",
    "import cleaning_with_face_recognition as rec"
   ]
  },
  {
   "cell_type": "code",
   "execution_count": null,
   "id": "corresponding-anthony",
   "metadata": {
    "ExecuteTime": {
     "end_time": "2021-03-07T17:17:00.703012Z",
     "start_time": "2021-03-07T17:16:59.696998Z"
    },
    "scrolled": true
   },
   "outputs": [],
   "source": [
    "# finds multiple face folders\n",
    "folders = glob.glob(config.FACE_IMAGES + '/*')\n",
    "metadata = pd.read_json(config.METADATA_PATH).T\n",
    "\n",
    "for f in folders:\n",
    "    imgs = glob.glob(f + '/*')\n",
    "    if len(imgs) < 30:\n",
    "        continue\n",
    "    if metadata.loc[os.path.basename(f)]['label'] == 'REAL':\n",
    "        continue\n",
    "    print(f, len(imgs), metadata.loc[os.path.basename(f)]['original'])\n",
    "    fake_path = f\n",
    "    real_path = os.path.join(config.FACE_IMAGES, metadata.loc[os.path.basename(f)]['original'])\n",
    "    \n"
   ]
  },
  {
   "cell_type": "markdown",
   "id": "frozen-stone",
   "metadata": {},
   "source": [
    "## Helper classes & functions"
   ]
  },
  {
   "cell_type": "code",
   "execution_count": null,
   "id": "incorporate-coalition",
   "metadata": {
    "ExecuteTime": {
     "end_time": "2021-03-07T17:17:02.476012Z",
     "start_time": "2021-03-07T17:17:02.472012Z"
    }
   },
   "outputs": [],
   "source": [
    "class Face:\n",
    "    def __init__(self, path):\n",
    "        self.face = cv2.imread(path)\n",
    "    \n",
    "    def __sub__(self, other):\n",
    "        diff = abs(self.face.astype('int') - other.face.astype('int'))\n",
    "        return diff\n",
    "    \n",
    "    def get(self, type='rgb'):\n",
    "        if type == 'bgr':\n",
    "            return self.face\n",
    "        elif type == 'rgb':\n",
    "            return cv2.cvtColor(self.face, cv2.COLOR_BGR2RGB)\n",
    "        elif type == 'gray':\n",
    "            return cv2.cvtColor(self.face, cv2.COLOR_BGR2GRAY)"
   ]
  },
  {
   "cell_type": "code",
   "execution_count": null,
   "id": "derived-beverage",
   "metadata": {
    "ExecuteTime": {
     "end_time": "2021-03-07T17:17:03.420013Z",
     "start_time": "2021-03-07T17:17:03.416012Z"
    }
   },
   "outputs": [],
   "source": [
    "class Loader:\n",
    "    def __init__(self, path):\n",
    "        self.path = path\n",
    "        self.names = glob.glob(path + '/*')\n",
    "        \n",
    "    def __getitem__(self, idx):\n",
    "        return self.names[idx]\n",
    "    \n",
    "    def __len__(self):\n",
    "        return len(self.names)"
   ]
  },
  {
   "cell_type": "code",
   "execution_count": null,
   "id": "entitled-gender",
   "metadata": {
    "ExecuteTime": {
     "end_time": "2021-03-07T17:17:04.388013Z",
     "start_time": "2021-03-07T17:17:04.384012Z"
    }
   },
   "outputs": [],
   "source": [
    "class Metadata:\n",
    "    def __init__(self, path):\n",
    "        self.metadata = pd.read_json(config.METADATA_PATH).T\n",
    "    \n",
    "    def __getitem__(self, name):\n",
    "        return self.metadata.loc[name][['label','original']].values"
   ]
  },
  {
   "cell_type": "code",
   "execution_count": null,
   "id": "continent-double",
   "metadata": {
    "ExecuteTime": {
     "end_time": "2021-03-07T17:17:05.468012Z",
     "start_time": "2021-03-07T17:17:05.464012Z"
    }
   },
   "outputs": [],
   "source": [
    "def display_images(images, cols = 5):\n",
    "    plt.figure(figsize=(32,16))\n",
    "\n",
    "    rows = len(images) // cols + 1\n",
    "    for i, img in enumerate(images):\n",
    "        plt.subplot(rows, cols, i + 1)\n",
    "        plt.imshow(img)     \n",
    "        \n",
    "        plt.tick_params(\n",
    "        axis='x',          # changes apply to the x-axis\n",
    "        which='both',      # both major and minor ticks are affected\n",
    "        bottom=False,      # ticks along the bottom edge are off\n",
    "        top=False,         # ticks along the top edge are off\n",
    "        labelbottom=False) # labels along the bottom edge are off\n",
    "        plt.tick_params(\n",
    "        axis='y',          # changes apply to the y-axis\n",
    "        which='both',      # both major and minor ticks are affected\n",
    "        left=False,      # ticks along the bottom edge are off\n",
    "        labelleft=False) # labels along the bottom edge are off"
   ]
  },
  {
   "cell_type": "markdown",
   "id": "cosmetic-sheep",
   "metadata": {},
   "source": [
    "## Initializing  "
   ]
  },
  {
   "cell_type": "code",
   "execution_count": null,
   "id": "nutritional-rating",
   "metadata": {
    "ExecuteTime": {
     "end_time": "2021-03-07T17:17:07.926011Z",
     "start_time": "2021-03-07T17:17:07.184012Z"
    },
    "scrolled": false
   },
   "outputs": [],
   "source": [
    "metadata = Metadata(config.METADATA_PATH)\n",
    "label, original = metadata['zrobwltwxr.mp4']\n",
    "print(label, original)\n",
    "\n",
    "# zlukluvcyp.mp4 37 sccqbzyikm.mp4\n",
    "# ---\n",
    "fake_path = os.path.join(config.FACE_IMAGES, 'zlukluvcyp.mp4')\n",
    "real_path = os.path.join(config.FACE_IMAGES, 'sccqbzyikm.mp4')\n",
    "\n",
    "fakes = Loader(fake_path)\n",
    "reals = Loader(real_path)\n",
    "\n",
    "# --- \n",
    "idx = 6\n",
    "f1 = Face(fakes[idx])\n",
    "f2 = Face(reals[idx])\n",
    "print(f'FAKE\\tREAL\\tDIFF, {np.sum(f1-f2)}')\n",
    "display_images([f1.get('rgb'), f2.get('rgb'), (f1-f2).astype('uint8')], 3)"
   ]
  },
  {
   "cell_type": "markdown",
   "id": "lightweight-lithuania",
   "metadata": {},
   "source": [
    "## Clustering + face diff\n",
    "\n",
    "**Steps**\n",
    "1. Extract encoding for real and fake\n",
    "2. Cluster real and fake seperately\n",
    "3. Relate clusters\n",
    "4. Diff clusters"
   ]
  },
  {
   "cell_type": "code",
   "execution_count": null,
   "id": "rental-reduction",
   "metadata": {
    "ExecuteTime": {
     "end_time": "2021-03-07T16:03:58.908662Z",
     "start_time": "2021-03-07T16:03:48.959644Z"
    }
   },
   "outputs": [],
   "source": [
    "real_encodings = [rec.get_encoding(r) for r in reals]\n",
    "real_clusters = AgglomerativeClustering(n_clusters=None, distance_threshold=0.55, linkage='average').fit(real_encodings)"
   ]
  },
  {
   "cell_type": "code",
   "execution_count": null,
   "id": "occupational-bacon",
   "metadata": {
    "ExecuteTime": {
     "end_time": "2021-03-07T16:03:59.077663Z",
     "start_time": "2021-03-07T16:03:59.040664Z"
    }
   },
   "outputs": [],
   "source": [
    "clustered_images = {}\n",
    "for label, p in zip(real_clusters.labels_, reals):\n",
    "    if clustered_images.get(label, None) is None:\n",
    "        clustered_images[label] = []\n",
    "    \n",
    "    clustered_images[label].append(Face(p))\n",
    "    \n",
    "clustered_fake_images = {}\n",
    "for label, p in zip(real_clusters.labels_, fakes):\n",
    "    if clustered_fake_images.get(label, None) is None:\n",
    "        clustered_fake_images[label] = []\n",
    "    \n",
    "    clustered_fake_images[label].append(Face(p))"
   ]
  },
  {
   "cell_type": "code",
   "execution_count": null,
   "id": "cordless-killer",
   "metadata": {
    "ExecuteTime": {
     "end_time": "2021-03-07T16:03:59.386664Z",
     "start_time": "2021-03-07T16:03:59.210663Z"
    },
    "scrolled": false
   },
   "outputs": [],
   "source": [
    "plt.figure(figsize=(16, 8))\n",
    "for cluster, imgs in clustered_images.items():\n",
    "    fake_imgs = clustered_fake_images[cluster]\n",
    "    difs = [np.sum(r_img - f_img) for r_img, f_img in zip(imgs, fake_imgs)]\n",
    "    plt.plot(difs, label=cluster, marker='o')\n",
    "    \n",
    "plt.legend()\n",
    "fake_name = os.path.basename(fake_path)\n",
    "real_name = os.path.basename(real_path)\n",
    "plt.title(f'Difference between cluster images fake: {fake_name} real: {real_name}')\n",
    "plt.savefig(f'outputs/img_dif_{fake_name}-{real_name}.jpg')\n",
    "print(fake_name, real_name)"
   ]
  },
  {
   "cell_type": "code",
   "execution_count": null,
   "id": "promotional-theorem",
   "metadata": {
    "ExecuteTime": {
     "end_time": "2021-03-07T16:03:59.523664Z",
     "start_time": "2021-03-07T16:03:59.520664Z"
    }
   },
   "outputs": [],
   "source": [
    "for cluster, imgs in clustered_images.items():\n",
    "    print(f'{cluster}: {len(imgs)}')"
   ]
  },
  {
   "cell_type": "code",
   "execution_count": null,
   "id": "returning-faculty",
   "metadata": {
    "ExecuteTime": {
     "end_time": "2021-03-07T16:04:06.982663Z",
     "start_time": "2021-03-07T16:03:59.657663Z"
    },
    "scrolled": false
   },
   "outputs": [],
   "source": [
    "for cluster, imgs in clustered_images.items():\n",
    "    print(cluster)\n",
    "    display_images([i.get('rgb') for i in imgs], 18)\n",
    "    display_images([i.get('rgb') for i in clustered_fake_images[cluster]], 18)"
   ]
  },
  {
   "cell_type": "code",
   "execution_count": null,
   "id": "selective-procedure",
   "metadata": {
    "ExecuteTime": {
     "end_time": "2021-03-07T17:20:12.520049Z",
     "start_time": "2021-03-07T17:20:12.304047Z"
    }
   },
   "outputs": [],
   "source": [
    "# adrcjenxlz.mp4 - bad example, keep to display\n",
    "# xifuovpydw.mp4\n",
    "\n",
    "# print(fake_name)\n",
    "Video(f'D:\\\\DFDC\\\\dfdc_train_part_48/sccqbzyikm.mp4', embed=True, width=640)"
   ]
  },
  {
   "cell_type": "markdown",
   "id": "realistic-holly",
   "metadata": {},
   "source": [
    "## Plotting face difference between fake and real"
   ]
  },
  {
   "cell_type": "code",
   "execution_count": null,
   "id": "outer-tunisia",
   "metadata": {},
   "outputs": [],
   "source": [
    "diff_fakes = []\n",
    "diff_reals = []\n",
    "diff_other = []\n",
    "\n",
    "for f, r in zip(fakes, reals):\n",
    "    assert f.split('mp4_')[-1] == r.split('mp4_')[-1], f'Fake: {f}, real: {r}'\n",
    "        \n",
    "    fake_face = Face(f)\n",
    "    real_face = Face(r)\n",
    "    diff = np.sum((fake_face - real_face).astype('int')) \n",
    "    \n",
    "    identifier = f.split('_')[-1]\n",
    "    if identifier == '0.jpg':\n",
    "        diff_reals.append(diff)\n",
    "        \n",
    "    elif identifier == '1.jpg':\n",
    "        diff_fakes.append(diff)\n",
    "    else:\n",
    "        diff_other.append(diff)\n",
    "\n",
    "plt.figure(figsize=(16,8))\n",
    "plt.plot(diff_reals, label='0')\n",
    "plt.plot(diff_fakes, label='1')\n",
    "plt.plot(diff_other, label='other')\n",
    "plt.legend()"
   ]
  },
  {
   "cell_type": "markdown",
   "id": "generous-three",
   "metadata": {},
   "source": [
    "## Analyzing face position data"
   ]
  },
  {
   "cell_type": "code",
   "execution_count": null,
   "id": "valued-tongue",
   "metadata": {
    "ExecuteTime": {
     "end_time": "2021-03-07T17:19:38.693026Z",
     "start_time": "2021-03-07T17:19:38.689024Z"
    }
   },
   "outputs": [],
   "source": [
    "metadata['sccqbzyikm.mp4']"
   ]
  },
  {
   "cell_type": "code",
   "execution_count": null,
   "id": "collaborative-rough",
   "metadata": {
    "ExecuteTime": {
     "end_time": "2021-03-07T17:27:12.766970Z",
     "start_time": "2021-03-07T17:27:12.271970Z"
    },
    "scrolled": false
   },
   "outputs": [],
   "source": [
    "face_coordinates = pd.read_json(config.FACE_COORDINATES_PATH).T\n",
    "\n",
    "x = []\n",
    "y = []\n",
    "for frame in face_coordinates.loc['sccqbzyikm.mp4'].values:\n",
    "    try:\n",
    "        face1, face2 = frame[:2]\n",
    "    except Exception as e:\n",
    "        print(e, frame)\n",
    "        continue\n",
    "    \n",
    "    x1,y1,x2,y2 = face1\n",
    "    x.append((x1+x2)/2)\n",
    "    y.append((y1+y2)/2)\n",
    "#     print()\n",
    "#     print(f'Second face: {frame[1]}')"
   ]
  },
  {
   "cell_type": "code",
   "execution_count": null,
   "id": "living-burns",
   "metadata": {
    "ExecuteTime": {
     "end_time": "2021-03-07T17:28:39.640328Z",
     "start_time": "2021-03-07T17:28:39.610329Z"
    }
   },
   "outputs": [],
   "source": [
    "for frame in face_coordinates.loc['sccqbzyikm.mp4'].values:\n",
    "    print(frame)"
   ]
  },
  {
   "cell_type": "code",
   "execution_count": null,
   "id": "british-colors",
   "metadata": {
    "ExecuteTime": {
     "end_time": "2021-03-07T17:28:09.710328Z",
     "start_time": "2021-03-07T17:28:09.625329Z"
    }
   },
   "outputs": [],
   "source": [
    "plt.plot(y, x, marker='x')"
   ]
  },
  {
   "cell_type": "markdown",
   "id": "royal-denial",
   "metadata": {},
   "source": [
    "## Distance between face encodings"
   ]
  },
  {
   "cell_type": "code",
   "execution_count": null,
   "id": "brief-couple",
   "metadata": {
    "ExecuteTime": {
     "end_time": "2021-03-07T11:38:22.877069Z",
     "start_time": "2021-03-07T11:38:05.566070Z"
    }
   },
   "outputs": [],
   "source": [
    "for i, (f, r) in enumerate(zip(fakes, reals)):\n",
    "    fake_encoding = rec.get_encoding(f)\n",
    "    real_encoding = rec.get_encoding(r)\n",
    "    distance = np.linalg.norm(fake_encoding - real_encoding)\n",
    "    \n",
    "    img1 = cv2.imread(f)\n",
    "    img2 = cv2.imread(f)\n",
    "    cv2.imwrite(f'test/{i}_{distance}.jpg', np.hstack((img1, img2)))"
   ]
  },
  {
   "cell_type": "code",
   "execution_count": null,
   "id": "minus-andorra",
   "metadata": {
    "scrolled": true
   },
   "outputs": [],
   "source": [
    "import matplotlib.pyplot as plt\n",
    "\n",
    "plt.figure(figsize=(24,8))\n",
    "fake_encoding = rec.get_encoding(fakes[0])\n",
    "real_encoding = rec.get_encoding(reals[0])\n",
    "\n",
    "plt.scatter(np.arange(len(fake_encoding)), fake_encoding)\n",
    "plt.scatter(np.arange(len(real_encoding)), real_encoding)"
   ]
  },
  {
   "cell_type": "markdown",
   "id": "optional-decimal",
   "metadata": {},
   "source": [
    "# Possible cases\n",
    "\n",
    "\n",
    "1. Single cluster\n",
    "     1. single face - keep all\n",
    "     2. multiple faces \n",
    "     3. single face & non-face\n",
    "    \n",
    "    \n",
    "4. Multiple clusters\n",
    "    1. Single face divided\n",
    "    2. Single face cluster majority + artifact - keep majority\n",
    "    3. Single face cluster + equally big artifact \n",
    "    4. Same length face clusters\n",
    "    5. 2 same length face clusters + smaller artifact cluster\n"
   ]
  }
 ],
 "metadata": {
  "kernelspec": {
   "display_name": "Python 3",
   "language": "python",
   "name": "python3"
  },
  "language_info": {
   "codemirror_mode": {
    "name": "ipython",
    "version": 3
   },
   "file_extension": ".py",
   "mimetype": "text/x-python",
   "name": "python",
   "nbconvert_exporter": "python",
   "pygments_lexer": "ipython3",
   "version": "3.7.5"
  },
  "toc": {
   "base_numbering": 1,
   "nav_menu": {},
   "number_sections": true,
   "sideBar": true,
   "skip_h1_title": false,
   "title_cell": "Table of Contents",
   "title_sidebar": "Contents",
   "toc_cell": false,
   "toc_position": {},
   "toc_section_display": true,
   "toc_window_display": true
  },
  "varInspector": {
   "cols": {
    "lenName": 16,
    "lenType": 16,
    "lenVar": 40
   },
   "kernels_config": {
    "python": {
     "delete_cmd_postfix": "",
     "delete_cmd_prefix": "del ",
     "library": "var_list.py",
     "varRefreshCmd": "print(var_dic_list())"
    },
    "r": {
     "delete_cmd_postfix": ") ",
     "delete_cmd_prefix": "rm(",
     "library": "var_list.r",
     "varRefreshCmd": "cat(var_dic_list()) "
    }
   },
   "position": {
    "height": "506.997px",
    "left": "1768.99px",
    "right": "20px",
    "top": "95.9931px",
    "width": "350px"
   },
   "types_to_exclude": [
    "module",
    "function",
    "builtin_function_or_method",
    "instance",
    "_Feature"
   ],
   "window_display": true
  }
 },
 "nbformat": 4,
 "nbformat_minor": 5
}
