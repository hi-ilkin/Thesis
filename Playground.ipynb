{
 "cells": [
  {
   "cell_type": "code",
   "execution_count": 1,
   "id": "caring-possible",
   "metadata": {
    "ExecuteTime": {
     "end_time": "2021-03-18T13:48:59.686533Z",
     "start_time": "2021-03-18T13:48:57.852557Z"
    }
   },
   "outputs": [],
   "source": [
    "import cv2\n",
    "import os\n",
    "import glob\n",
    "import math\n",
    "import numpy as np\n",
    "import pandas as pd\n",
    "\n",
    "import config\n",
    "from cleaning_with_coordinate_clustering import VideoReader, Metadata\n",
    "\n",
    "face_coordinates = pd.read_json(config.FACE_COORDINATES_PATH).T"
   ]
  },
  {
   "cell_type": "markdown",
   "id": "simplified-trial",
   "metadata": {},
   "source": [
    "(2,)\n",
    "[[0, [565.47998046875, 616.5693359375, 721.7264404296875, 805.61962890625]], [1, [570.3684692382812, 614.9842529296875, 722.6734008789062, 799.764892578125]], [2, [571.939453125, 620.2518920898438, 722.45361328125, 802.4014892578125]], [3, [572.754150390625, 617.57568359375, 724.0797119140625, 800.370849609375]]]\n",
    "nan"
   ]
  },
  {
   "cell_type": "code",
   "execution_count": null,
   "id": "confident-president",
   "metadata": {
    "ExecuteTime": {
     "end_time": "2021-03-18T13:28:49.349397Z",
     "start_time": "2021-03-18T13:28:49.112401Z"
    }
   },
   "outputs": [],
   "source": [
    "images = glob.glob('D:/DFDC/train_faces/*.jpg')"
   ]
  },
  {
   "cell_type": "code",
   "execution_count": null,
   "id": "consecutive-albany",
   "metadata": {
    "ExecuteTime": {
     "end_time": "2021-03-18T13:29:13.691075Z",
     "start_time": "2021-03-18T13:29:13.684072Z"
    }
   },
   "outputs": [],
   "source": [
    "len(images)"
   ]
  },
  {
   "cell_type": "code",
   "execution_count": null,
   "id": "allied-danish",
   "metadata": {
    "ExecuteTime": {
     "end_time": "2021-03-18T13:33:20.298767Z",
     "start_time": "2021-03-18T13:32:19.217586Z"
    }
   },
   "outputs": [],
   "source": [
    "all_images = []\n",
    "\n",
    "for i, im_path in enumerate(images):\n",
    "    if i % 10000 == 0:\n",
    "        print(i)\n",
    "    image = cv2.imread(im_path)\n",
    "    image = cv2.cvtColor(image, cv2.COLOR_BGR2RGB)\n",
    "    all_images.append(image)\n",
    "np.savez('D:/DFDC/chunk.npz', all_images)"
   ]
  },
  {
   "cell_type": "code",
   "execution_count": 2,
   "id": "random-startup",
   "metadata": {
    "ExecuteTime": {
     "end_time": "2021-03-18T13:49:50.494852Z",
     "start_time": "2021-03-18T13:49:02.116500Z"
    }
   },
   "outputs": [],
   "source": [
    "data = np.load('D:/DFDC/chunk.npz', allow_pickle=True)['arr_0']"
   ]
  },
  {
   "cell_type": "code",
   "execution_count": 9,
   "id": "casual-planner",
   "metadata": {
    "ExecuteTime": {
     "end_time": "2021-03-18T13:51:06.998962Z",
     "start_time": "2021-03-18T13:51:06.988960Z"
    }
   },
   "outputs": [],
   "source": [
    "def display_images(images, cols = 5, titles=None, figsize=(64, 16)):\n",
    "    plt.figure(figsize=figsize)\n",
    "    rows = len(images) // cols + 1\n",
    "    \n",
    "    if titles is None:\n",
    "        titles = ['']*len(images)\n",
    "    \n",
    "    for i, (img, title) in enumerate(zip(images, titles)):\n",
    "        plt.subplot(rows, cols, i + 1)\n",
    "        plt.title(title)\n",
    "        plt.imshow(img)     \n",
    "        \n",
    "        plt.tick_params(\n",
    "        axis='x',          # changes apply to the x-axis\n",
    "        which='both',      # both major and minor ticks are affected\n",
    "        bottom=False,      # ticks along the bottom edge are off\n",
    "        top=False,         # ticks along the top edge are off\n",
    "        labelbottom=False) # labels along the bottom edge are off\n",
    "        plt.tick_params(\n",
    "        axis='y',          # changes apply to the y-axis\n",
    "        which='both',      # both major and minor ticks are affected\n",
    "        left=False,      # ticks along the bottom edge are off\n",
    "        labelleft=False) # labels along the bottom edge are off"
   ]
  },
  {
   "cell_type": "code",
   "execution_count": 15,
   "id": "reflected-breast",
   "metadata": {
    "ExecuteTime": {
     "end_time": "2021-03-18T13:53:09.049350Z",
     "start_time": "2021-03-18T13:53:09.036349Z"
    }
   },
   "outputs": [
    {
     "data": {
      "text/plain": [
       "120"
      ]
     },
     "execution_count": 15,
     "metadata": {},
     "output_type": "execute_result"
    }
   ],
   "source": [
    "len(data[6546:6666])"
   ]
  }
 ],
 "metadata": {
  "kernelspec": {
   "display_name": "Python 3",
   "language": "python",
   "name": "python3"
  },
  "language_info": {
   "codemirror_mode": {
    "name": "ipython",
    "version": 3
   },
   "file_extension": ".py",
   "mimetype": "text/x-python",
   "name": "python",
   "nbconvert_exporter": "python",
   "pygments_lexer": "ipython3",
   "version": "3.7.5"
  },
  "toc": {
   "base_numbering": 1,
   "nav_menu": {},
   "number_sections": true,
   "sideBar": true,
   "skip_h1_title": false,
   "title_cell": "Table of Contents",
   "title_sidebar": "Contents",
   "toc_cell": false,
   "toc_position": {},
   "toc_section_display": true,
   "toc_window_display": false
  },
  "varInspector": {
   "cols": {
    "lenName": 16,
    "lenType": 16,
    "lenVar": 40
   },
   "kernels_config": {
    "python": {
     "delete_cmd_postfix": "",
     "delete_cmd_prefix": "del ",
     "library": "var_list.py",
     "varRefreshCmd": "print(var_dic_list())"
    },
    "r": {
     "delete_cmd_postfix": ") ",
     "delete_cmd_prefix": "rm(",
     "library": "var_list.r",
     "varRefreshCmd": "cat(var_dic_list()) "
    }
   },
   "position": {
    "height": "405.994px",
    "left": "1395.98px",
    "right": "20px",
    "top": "109.983px",
    "width": "346.989px"
   },
   "types_to_exclude": [
    "module",
    "function",
    "builtin_function_or_method",
    "instance",
    "_Feature"
   ],
   "window_display": false
  }
 },
 "nbformat": 4,
 "nbformat_minor": 5
}
