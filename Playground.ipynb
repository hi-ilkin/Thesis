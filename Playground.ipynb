{
 "cells": [
  {
   "cell_type": "code",
   "execution_count": null,
   "id": "recent-phoenix",
   "metadata": {
    "ExecuteTime": {
     "end_time": "2021-04-28T21:29:49.604601Z",
     "start_time": "2021-04-28T21:29:48.895318Z"
    }
   },
   "outputs": [],
   "source": [
    "# !jt -t onedork -fs 100 -altp -tfs 14 -nfs 115 -T \n",
    "!jt -t onedork -fs 11 -ofs 10 -altp -tfs 14 -nfs 120 -cellw 70% -T"
   ]
  },
  {
   "cell_type": "code",
   "execution_count": null,
   "id": "refined-moses",
   "metadata": {
    "ExecuteTime": {
     "end_time": "2021-05-13T11:13:01.847659Z",
     "start_time": "2021-05-13T11:13:01.845022Z"
    },
    "init_cell": true
   },
   "outputs": [],
   "source": [
    "import cv2\n",
    "import os\n",
    "import glob\n",
    "import math\n",
    "import numpy as np\n",
    "import pandas as pd\n",
    "from tqdm import tqdm\n",
    "import config\n",
    "import matplotlib.pyplot as plt\n",
    "# from cleaning_with_coordinate_clustering import VideoReader, Metadata\n",
    "\n",
    "# face_coordinates = pd.read_json(config.FACE_COORDINATES_PATH).T"
   ]
  },
  {
   "cell_type": "code",
   "execution_count": null,
   "id": "recognized-journal",
   "metadata": {
    "ExecuteTime": {
     "end_time": "2021-04-28T21:52:35.861668Z",
     "start_time": "2021-04-28T21:52:27.585033Z"
    }
   },
   "outputs": [],
   "source": [
    "%%timeit\n",
    "import numpy as np\n",
    "very_long_list = list(range(100000))\n",
    "even = np.concatenate([[a] for a in very_long_list if a%2 == 0])\n",
    "odd = np.concatenate([[a] for a in very_long_list if a%2 != 0])"
   ]
  },
  {
   "cell_type": "code",
   "execution_count": null,
   "id": "piano-blond",
   "metadata": {
    "ExecuteTime": {
     "end_time": "2021-04-28T21:53:38.610018Z",
     "start_time": "2021-04-28T21:53:30.874956Z"
    }
   },
   "outputs": [],
   "source": [
    "%%timeit\n",
    "import numpy as np\n",
    "very_long_list = list(range(100000))\n",
    "evens = []\n",
    "odds = []\n",
    "for item in very_long_list:\n",
    "    if item % 2 == 0:\n",
    "        evens.append(item)\n",
    "    else:\n",
    "        odds.append(item)"
   ]
  },
  {
   "cell_type": "markdown",
   "id": "pressing-cornwall",
   "metadata": {},
   "source": [
    "# Face size check"
   ]
  },
  {
   "cell_type": "code",
   "execution_count": null,
   "id": "square-republican",
   "metadata": {
    "ExecuteTime": {
     "end_time": "2021-04-10T15:31:58.577910Z",
     "start_time": "2021-04-10T15:31:58.314909Z"
    }
   },
   "outputs": [],
   "source": [
    "faces = glob.glob(config.TRAIN_IMAGES+'/*')\n",
    "print(f\"{len(faces)} faces were detected\")"
   ]
  },
  {
   "cell_type": "code",
   "execution_count": null,
   "id": "prescription-still",
   "metadata": {
    "ExecuteTime": {
     "end_time": "2021-04-10T15:33:58.672022Z",
     "start_time": "2021-04-10T15:33:09.531003Z"
    },
    "scrolled": true
   },
   "outputs": [],
   "source": [
    "widths, heights = [], []\n",
    "small_imgs = []\n",
    "\n",
    "for i, p in enumerate(faces):\n",
    "    if i % 500 == 0: \n",
    "        print(i, end=' ')\n",
    "    img = cv2.imread(p)\n",
    "    h,w, _ = img.shape\n",
    "    if w < 100 or h < 100:\n",
    "        small_imgs.append(img)\n",
    "    \n",
    "    widths.append(w)\n",
    "    heights.append(h)"
   ]
  },
  {
   "cell_type": "code",
   "execution_count": null,
   "id": "running-strike",
   "metadata": {
    "ExecuteTime": {
     "end_time": "2021-04-10T15:34:01.474476Z",
     "start_time": "2021-04-10T15:34:01.064482Z"
    }
   },
   "outputs": [],
   "source": [
    "# os.mkdir('tmp-small-imgs')\n",
    "for i, im in enumerate(small_imgs):\n",
    "    cv2.imwrite(f'tmp-small-imgs/{i}.png', im)"
   ]
  },
  {
   "cell_type": "code",
   "execution_count": null,
   "id": "loaded-intranet",
   "metadata": {
    "ExecuteTime": {
     "end_time": "2021-04-10T15:34:20.157256Z",
     "start_time": "2021-04-10T15:34:19.527267Z"
    }
   },
   "outputs": [],
   "source": [
    "res = plt.hist(heights, bins=range(0,250,10), alpha=0.5)\n",
    "\n",
    "for c, b in zip(*res[:2]):\n",
    "    print(f'{b} : {c}')"
   ]
  },
  {
   "cell_type": "code",
   "execution_count": null,
   "id": "accomplished-muscle",
   "metadata": {
    "ExecuteTime": {
     "end_time": "2021-04-10T15:34:25.162384Z",
     "start_time": "2021-04-10T15:34:24.593379Z"
    },
    "scrolled": true
   },
   "outputs": [],
   "source": [
    "res = plt.hist(widths, bins=range(0,250,10), alpha=0.5)\n",
    "\n",
    "for c, b in zip(*res[:2]):\n",
    "    print(f'{b} : {c}')"
   ]
  },
  {
   "cell_type": "code",
   "execution_count": null,
   "id": "forty-bullet",
   "metadata": {
    "ExecuteTime": {
     "end_time": "2021-04-10T15:41:26.862351Z",
     "start_time": "2021-04-10T15:41:26.815359Z"
    }
   },
   "outputs": [],
   "source": [
    "from facenet_pytorch import MTCNN\n",
    "from PIL import Image\n",
    "\n",
    "mtcnn = MTCNN(224)\n"
   ]
  },
  {
   "cell_type": "code",
   "execution_count": null,
   "id": "political-poverty",
   "metadata": {
    "ExecuteTime": {
     "end_time": "2021-04-10T16:10:58.632362Z",
     "start_time": "2021-04-10T15:44:40.799175Z"
    }
   },
   "outputs": [],
   "source": [
    "results = {}\n",
    "problems = []\n",
    "for i, p_img in enumerate(faces):\n",
    "    if (i+1) % 100 == 0:\n",
    "        print(i+1, end=' ')\n",
    "    img = Image.open(p_img)\n",
    "    \n",
    "    try:\n",
    "        cord, probs = mtcnn.detect(img)\n",
    "        results[p_img] = {'cord': cord, 'probs': probs}\n",
    "    except:\n",
    "        problems.append(p_img)\n",
    "        print(f'Problem with: {p_img}')\n",
    "# img_cropped.save('tmp-small-imgs/5-2.png')"
   ]
  },
  {
   "cell_type": "code",
   "execution_count": null,
   "id": "textile-enterprise",
   "metadata": {
    "ExecuteTime": {
     "end_time": "2021-04-10T16:23:21.303227Z",
     "start_time": "2021-04-10T16:23:21.061214Z"
    }
   },
   "outputs": [],
   "source": [
    "counter = 0\n",
    "for k,v in results.items():\n",
    "    if v['cord'] is None:\n",
    "        print(k)\n",
    "        counter += 1\n",
    "counter"
   ]
  },
  {
   "cell_type": "code",
   "execution_count": null,
   "id": "dietary-mobility",
   "metadata": {
    "ExecuteTime": {
     "end_time": "2021-04-10T16:22:24.906489Z",
     "start_time": "2021-04-10T16:22:24.864533Z"
    }
   },
   "outputs": [],
   "source": [
    "Image.open(r'D:/DFDC/train_images\\chunk_8_38.png')"
   ]
  },
  {
   "cell_type": "markdown",
   "id": "6ebf83be",
   "metadata": {},
   "source": [
    "# Arranging labels for test images"
   ]
  },
  {
   "cell_type": "code",
   "execution_count": null,
   "id": "b60bae02",
   "metadata": {
    "ExecuteTime": {
     "end_time": "2021-05-13T10:00:14.353715Z",
     "start_time": "2021-05-13T10:00:14.221630Z"
    }
   },
   "outputs": [],
   "source": [
    "original_labels = pd.read_csv(f'{config.root}/videos_test/labels.csv')\n",
    "imgs = os.listdir(f'{config.root}/test_images')"
   ]
  },
  {
   "cell_type": "code",
   "execution_count": null,
   "id": "ccc4c710",
   "metadata": {
    "ExecuteTime": {
     "end_time": "2021-05-13T10:00:15.282554Z",
     "start_time": "2021-05-13T10:00:15.277026Z"
    }
   },
   "outputs": [],
   "source": [
    "original_labels"
   ]
  },
  {
   "cell_type": "code",
   "execution_count": null,
   "id": "12cf7fb6",
   "metadata": {
    "ExecuteTime": {
     "end_time": "2021-05-12T19:00:36.497892Z",
     "start_time": "2021-05-12T19:00:36.427842Z"
    }
   },
   "outputs": [],
   "source": [
    "new_labels = pd.DataFrame({ 'names': imgs })\n",
    "new_labels['video_names'] = new_labels['names'].apply(lambda x: x.split('_')[0])\n",
    "labels = new_labels.merge(original_labels, how='left', left_on='video_names', right_on='filename')\n",
    "labels['labels'] = labels['label'].apply(lambda x: 'REAL' if x==0 else 'FAKE')\n",
    "labels.drop(columns=['video_names', 'filename'], inplace=True)\n",
    "labels"
   ]
  },
  {
   "cell_type": "code",
   "execution_count": null,
   "id": "a982cbad",
   "metadata": {
    "ExecuteTime": {
     "end_time": "2021-05-12T19:02:38.795247Z",
     "start_time": "2021-05-12T19:02:38.567530Z"
    }
   },
   "outputs": [],
   "source": [
    "labels.to_csv(f'{config.root}/test_labels.csv', index=False)"
   ]
  },
  {
   "cell_type": "markdown",
   "id": "a4bcbd57",
   "metadata": {},
   "source": [
    "# Video based results"
   ]
  },
  {
   "cell_type": "code",
   "execution_count": null,
   "id": "7f3fb5be",
   "metadata": {
    "ExecuteTime": {
     "end_time": "2021-05-13T11:13:13.353578Z",
     "start_time": "2021-05-13T11:13:13.351922Z"
    }
   },
   "outputs": [],
   "source": [
    "from sklearn.metrics import log_loss"
   ]
  },
  {
   "cell_type": "code",
   "execution_count": null,
   "id": "e169cb4d",
   "metadata": {
    "ExecuteTime": {
     "end_time": "2021-05-13T11:13:14.782554Z",
     "start_time": "2021-05-13T11:13:14.523186Z"
    }
   },
   "outputs": [],
   "source": [
    "results = pd.read_csv(f'{config.root}/test_results/DFDC-phase-7_s1_xception_26jf408q.csv')\n",
    "results['paths'][0]"
   ]
  },
  {
   "cell_type": "code",
   "execution_count": null,
   "id": "8316fe0a",
   "metadata": {
    "ExecuteTime": {
     "end_time": "2021-05-13T11:17:07.534502Z",
     "start_time": "2021-05-13T11:17:07.494260Z"
    }
   },
   "outputs": [],
   "source": [
    "results.groupby('video_names').count()"
   ]
  },
  {
   "cell_type": "code",
   "execution_count": null,
   "id": "06a33d2c",
   "metadata": {
    "ExecuteTime": {
     "end_time": "2021-05-13T11:18:17.867514Z",
     "start_time": "2021-05-13T11:18:17.610616Z"
    }
   },
   "outputs": [],
   "source": [
    "results['video_names'] = results['paths'].apply(lambda x: os.path.basename(x).split('_')[0])\n",
    "df = results.groupby('video_names').mean().reset_index()\n",
    "df.to_csv('xception_video_results.csv', index=False)"
   ]
  },
  {
   "cell_type": "code",
   "execution_count": null,
   "id": "bff837f1",
   "metadata": {
    "ExecuteTime": {
     "end_time": "2021-05-13T09:59:49.305082Z",
     "start_time": "2021-05-13T09:59:49.303549Z"
    }
   },
   "outputs": [],
   "source": [
    "# switching labels only needed for old results\n",
    "#df['switched_targets'] = df['targets'].apply(lambda x : 0 if x == 1 else 1)\n",
    "#df"
   ]
  },
  {
   "cell_type": "code",
   "execution_count": null,
   "id": "fbaa7136",
   "metadata": {
    "ExecuteTime": {
     "end_time": "2021-05-13T10:00:20.171079Z",
     "start_time": "2021-05-13T10:00:20.165016Z"
    }
   },
   "outputs": [],
   "source": [
    "original_labels"
   ]
  },
  {
   "cell_type": "code",
   "execution_count": null,
   "id": "acf16025",
   "metadata": {
    "ExecuteTime": {
     "end_time": "2021-05-13T10:07:57.582231Z",
     "start_time": "2021-05-13T10:07:57.578133Z"
    }
   },
   "outputs": [],
   "source": [
    "log_loss(df['targets'], df['confidence_1'])"
   ]
  },
  {
   "cell_type": "code",
   "execution_count": null,
   "id": "46edb56f",
   "metadata": {
    "ExecuteTime": {
     "end_time": "2021-05-13T10:07:59.314131Z",
     "start_time": "2021-05-13T10:07:59.306214Z"
    }
   },
   "outputs": [],
   "source": [
    "missing_videos = original_labels[original_labels['filename'].isin(set(original_labels['filename']) - set(df['video_names']))]\n",
    "missing_videos = missing_videos.reset_index(drop=True).rename(columns={'label':'targets', 'filename':'video_names'})\n",
    "missing_videos['confidence_0'] = 0.5\n",
    "missing_videos['confidence_1'] = 0.5"
   ]
  },
  {
   "cell_type": "code",
   "execution_count": null,
   "id": "c504f836",
   "metadata": {
    "ExecuteTime": {
     "end_time": "2021-05-13T10:08:00.720538Z",
     "start_time": "2021-05-13T10:08:00.709244Z"
    }
   },
   "outputs": [],
   "source": [
    "df = pd.concat([df, missing_videos])\n",
    "df"
   ]
  },
  {
   "cell_type": "code",
   "execution_count": null,
   "id": "fbe19fcd",
   "metadata": {
    "ExecuteTime": {
     "end_time": "2021-05-13T10:08:09.134328Z",
     "start_time": "2021-05-13T10:08:09.129428Z"
    }
   },
   "outputs": [],
   "source": [
    "log_loss(df['targets'], df['confidence_1'])"
   ]
  },
  {
   "cell_type": "markdown",
   "id": "powerful-catalyst",
   "metadata": {},
   "source": [
    "# Face tracking"
   ]
  },
  {
   "cell_type": "code",
   "execution_count": null,
   "id": "underlying-filename",
   "metadata": {
    "ExecuteTime": {
     "end_time": "2021-05-12T12:33:23.554548Z",
     "start_time": "2021-05-12T12:33:23.544852Z"
    }
   },
   "outputs": [],
   "source": [
    "import numpy as np\n",
    "import matplotlib.pyplot as plt\n",
    "\n",
    "from PIL import Image, ImageDraw\n",
    "from facenet_pytorch.models.mtcnn import MTCNN\n",
    "from utils import get_frames\n",
    "import iou\n",
    "import config"
   ]
  },
  {
   "cell_type": "code",
   "execution_count": null,
   "id": "retired-nightmare",
   "metadata": {
    "ExecuteTime": {
     "end_time": "2021-05-12T13:47:58.663581Z",
     "start_time": "2021-05-12T13:47:49.044609Z"
    }
   },
   "outputs": [],
   "source": [
    "mtcnn = MTCNN(**config.FACE_DETECTOR_KWARGS)\n",
    "\n",
    "video_path = f'{config.root}/videos_test/viaobrvusg.mp4'\n",
    "frames = get_frames(video_path, start=0, step=1, output_type='PIL')\n",
    "\n",
    "tmp_frame = frames[0]\n",
    "new_width, new_height = tmp_frame.width // 2, tmp_frame.height//2\n",
    "\n",
    "resized_frames = [frame.resize((new_width, new_height)) for frame in frames]\n",
    "coordinates, probabilities = mtcnn.detect(resized_frames)"
   ]
  },
  {
   "cell_type": "markdown",
   "id": "certified-singles",
   "metadata": {
    "heading_collapsed": true
   },
   "source": [
    "## IOU tracking"
   ]
  },
  {
   "cell_type": "markdown",
   "id": "turned-observer",
   "metadata": {
    "hidden": true
   },
   "source": [
    "**Problems**\n",
    "1. Trackable secondary face\n",
    "2. Random face on top of original face\n",
    "3. How to decide which face should be kept?\n",
    "4. Main faces disapears for few frames"
   ]
  },
  {
   "cell_type": "code",
   "execution_count": null,
   "id": "practical-portable",
   "metadata": {
    "hidden": true
   },
   "outputs": [],
   "source": [
    "face_id = 0\n",
    "faces = {}\n",
    "\n",
    "\n",
    "for frame_id, frame in enumerate(coordinates):\n",
    "    last_faces = []\n",
    "    last_face_ids = []\n",
    "    \n",
    "    for fid in range(face_id):\n",
    "        last_face, prev_frame_id = faces[fid][-1]\n",
    "        \n",
    "        # lossing same face for 2 frames is ok\n",
    "        if frame_id - prev_frame_id <= 2:\n",
    "            last_faces.append(last_face)\n",
    "            last_face_ids.append(fid)\n",
    "    \n",
    "    for c in frame:\n",
    "        if len(last_faces) == 0:\n",
    "            faces[face_id] = [(c, frame_id)]\n",
    "            face_id += 1\n",
    "            \n",
    "        else:\n",
    "            all_iou, iou_max, nmax = iou.get_max_iou(np.array(last_faces), c)\n",
    "            if iou_max > 0.75:\n",
    "                last_face_id = last_face_ids[nmax]\n",
    "                faces[last_face_id].append((c, frame_id))\n",
    "            else:\n",
    "                faces[face_id] = [(c, frame_id)]\n",
    "                face_id += 1    "
   ]
  },
  {
   "cell_type": "code",
   "execution_count": null,
   "id": "authorized-thailand",
   "metadata": {
    "hidden": true
   },
   "outputs": [],
   "source": [
    "# legacy\n",
    "face_id = 0\n",
    "faces = {}\n",
    "\n",
    "for frame in coordinates:\n",
    "    \n",
    "    last_faces = []\n",
    "    last_face_ids = []\n",
    "    unupdated_faces = list(range(face_id))\n",
    "    \n",
    "    # getting last face of each id\n",
    "    for i in range(face_id):\n",
    "        last_face = faces[i][-1]\n",
    "        \n",
    "        if last_face is not None:\n",
    "            last_faces.append(last_face)\n",
    "            last_face_ids.append(i)\n",
    "            \n",
    "    # checking most intersacted frame\n",
    "    for c in frame:\n",
    "        if len(last_faces) == 0:\n",
    "            faces[face_id] = [c]\n",
    "            face_id += 1\n",
    "        else:\n",
    "            all_iou, iou_max, nmax = iou.get_max_iou(np.array(last_faces), c)\n",
    "            if iou_max > 0.75:\n",
    "                faces[last_face_ids[nmax]].append(c)\n",
    "                unupdated_faces.remove(nmax)\n",
    "            else:\n",
    "                faces[face_id] = [c]\n",
    "                face_id += 1        \n",
    "    for u in unupdated_faces:\n",
    "        faces[u].append(None)"
   ]
  },
  {
   "cell_type": "code",
   "execution_count": null,
   "id": "hungry-belle",
   "metadata": {
    "hidden": true
   },
   "outputs": [],
   "source": [
    "for fid, coord in faces.items():\n",
    "    df = pd.DataFrame({fid:faces[fid]})\n",
    "    print(fid, len(df[df[fid].notna()]), end=' | ')\n",
    "    break"
   ]
  },
  {
   "cell_type": "markdown",
   "id": "corresponding-turtle",
   "metadata": {
    "heading_collapsed": true
   },
   "source": [
    "## Calculating and drawing centers"
   ]
  },
  {
   "cell_type": "code",
   "execution_count": null,
   "id": "satellite-break",
   "metadata": {
    "ExecuteTime": {
     "end_time": "2021-05-12T13:40:35.104842Z",
     "start_time": "2021-05-12T13:40:35.085478Z"
    },
    "hidden": true
   },
   "outputs": [],
   "source": [
    "centers = []\n",
    "\n",
    "for frame in coordinates:\n",
    "    center = []\n",
    "    for c in frame:\n",
    "        centerx = (c[0] + c[2])/2\n",
    "        centery = (c[1] + c[3])/2\n",
    "        center.append([centerx, centery])\n",
    "    centers.append(center)"
   ]
  },
  {
   "cell_type": "code",
   "execution_count": null,
   "id": "specified-custom",
   "metadata": {
    "ExecuteTime": {
     "end_time": "2021-05-12T13:40:35.761065Z",
     "start_time": "2021-05-12T13:40:35.748887Z"
    },
    "hidden": true
   },
   "outputs": [],
   "source": [
    "x_axis_data = []\n",
    "x_coords = []\n",
    "y_coords = []\n",
    "for i, frame in enumerate(centers):\n",
    "    for x,y in frame:\n",
    "        x_axis_data.append(i)\n",
    "        x_coords.append(x)\n",
    "        y_coords.append(y)"
   ]
  },
  {
   "cell_type": "code",
   "execution_count": null,
   "id": "activated-recommendation",
   "metadata": {
    "ExecuteTime": {
     "end_time": "2021-05-12T13:40:36.427879Z",
     "start_time": "2021-05-12T13:40:36.343831Z"
    },
    "hidden": true
   },
   "outputs": [],
   "source": [
    "# x axis data per frame\n",
    "plt.scatter(x_axis_data, x_coords)"
   ]
  },
  {
   "cell_type": "code",
   "execution_count": null,
   "id": "australian-dynamics",
   "metadata": {
    "ExecuteTime": {
     "end_time": "2021-05-12T13:40:37.099439Z",
     "start_time": "2021-05-12T13:40:37.012466Z"
    },
    "hidden": true
   },
   "outputs": [],
   "source": [
    "# y axis data per frame\n",
    "plt.scatter(x_axis_data, y_coords)"
   ]
  },
  {
   "cell_type": "code",
   "execution_count": null,
   "id": "novel-photographer",
   "metadata": {
    "ExecuteTime": {
     "end_time": "2021-05-12T13:40:41.771078Z",
     "start_time": "2021-05-12T13:40:41.694757Z"
    },
    "hidden": true
   },
   "outputs": [],
   "source": [
    "# heatmap\n",
    "plt.scatter(x_coords, y_coords, s=5)"
   ]
  },
  {
   "cell_type": "markdown",
   "id": "lonely-explorer",
   "metadata": {
    "tags": []
   },
   "source": [
    "## Displaying detected faces"
   ]
  },
  {
   "cell_type": "code",
   "execution_count": null,
   "id": "emerging-ebony",
   "metadata": {
    "ExecuteTime": {
     "end_time": "2021-05-12T13:50:44.383137Z",
     "start_time": "2021-05-12T13:50:44.262301Z"
    },
    "tags": []
   },
   "outputs": [],
   "source": [
    "# drawing rectangle\n",
    "idx = 285\n",
    "img = resized_frames[idx].copy()\n",
    "draw = ImageDraw.Draw(img)\n",
    "for c in coordinates[idx]:\n",
    "    draw.rectangle(c, outline='red')\n",
    "img"
   ]
  },
  {
   "cell_type": "markdown",
   "id": "6a9ba3b3",
   "metadata": {
    "ExecuteTime": {
     "end_time": "2021-05-12T12:31:02.953589Z",
     "start_time": "2021-05-12T12:31:02.952007Z"
    }
   },
   "source": [
    "## Checking tracking performance"
   ]
  },
  {
   "cell_type": "code",
   "execution_count": null,
   "id": "bc897ff8",
   "metadata": {
    "ExecuteTime": {
     "end_time": "2021-05-12T12:31:16.705723Z",
     "start_time": "2021-05-12T12:31:16.704121Z"
    }
   },
   "outputs": [],
   "source": [
    "import glob\n",
    "import pickle\n",
    "import numpy as np\n",
    "import config"
   ]
  },
  {
   "cell_type": "code",
   "execution_count": null,
   "id": "9ac3fd64",
   "metadata": {
    "ExecuteTime": {
     "end_time": "2021-05-12T15:44:31.200787Z",
     "start_time": "2021-05-12T15:44:31.193293Z"
    }
   },
   "outputs": [],
   "source": [
    "video_name = 'aalscayrfi.mp4'\n",
    "p_coord = f'{config.root}/tracked_videos/{video_name}.pkl'\n",
    "with open(p_coord, 'rb') as fp:\n",
    "    coords = pickle.load(fp)"
   ]
  },
  {
   "cell_type": "code",
   "execution_count": null,
   "id": "8817226b",
   "metadata": {
    "ExecuteTime": {
     "end_time": "2021-05-12T13:35:57.871031Z",
     "start_time": "2021-05-12T13:35:56.006400Z"
    },
    "scrolled": true
   },
   "outputs": [],
   "source": [
    "# performance check\n",
    "all_data = glob.glob(f'{config.root}/tracked_videos/*.pkl')\n",
    "\n",
    "stats = {\n",
    "    'no_data': 0,\n",
    "    '300': 0,\n",
    "    '300+': 0,\n",
    "    'average':0,\n",
    "    '<100': 0,\n",
    "    'double face+250': 0,\n",
    "    '10+ faces': 0\n",
    "}\n",
    "\n",
    "for p in all_data:\n",
    "    with open(p, 'rb') as fp:\n",
    "        coords = pickle.load(fp)\n",
    "        if len(coords) == 0:\n",
    "            stats['no_data'] += 1\n",
    "            continue\n",
    "        else:\n",
    "            size_of_values = [len(v) for k,v in coords.items()]\n",
    "            if len(size_of_values) > 10:\n",
    "                stats['10+ faces'] += 1\n",
    "                \n",
    "            max_value = max(size_of_values)\n",
    "            if max_value > 300:\n",
    "                stats['300+'] += 1\n",
    "            elif max_value == 300:\n",
    "                stats['300'] += 1\n",
    "            elif 100 <= max_value < 250:\n",
    "                stats['average'] += 1\n",
    "            elif max_value < 100:\n",
    "                stats['<100'] += 1\n",
    "            elif max_value in range(95, 105):\n",
    "                print(p)\n",
    "                \n",
    "            counter = 0\n",
    "            for v in sorted(size_of_values, reverse=True):\n",
    "                if v >= 50:\n",
    "                    counter += 1\n",
    "            if counter >= 5:\n",
    "                print(p, counter)\n",
    "            if counter >= 2:\n",
    "                key = f'double face_{counter}'\n",
    "                if key in stats:\n",
    "                    stats[key] += 1\n",
    "                else:\n",
    "                    stats[key] = 1\n",
    "            "
   ]
  },
  {
   "cell_type": "code",
   "execution_count": null,
   "id": "78052df6",
   "metadata": {
    "ExecuteTime": {
     "end_time": "2021-05-12T13:35:26.364528Z",
     "start_time": "2021-05-12T13:35:26.362410Z"
    },
    "scrolled": true
   },
   "outputs": [],
   "source": [
    "stats"
   ]
  },
  {
   "cell_type": "markdown",
   "id": "naked-passport",
   "metadata": {},
   "source": [
    "# Video Player for test set"
   ]
  },
  {
   "cell_type": "code",
   "execution_count": null,
   "id": "perfect-possession",
   "metadata": {
    "ExecuteTime": {
     "end_time": "2021-05-13T11:13:47.603227Z",
     "start_time": "2021-05-13T11:13:46.505921Z"
    }
   },
   "outputs": [],
   "source": [
    "from IPython.display import Video\n",
    "import config\n",
    "import glob\n",
    "import os\n",
    "import pandas as pd\n",
    "videos = glob.glob(f'{config.root}/videos_test/*.mp4')\n",
    "labels = pd.read_csv(f'{config.root}/videos_test/labels.csv')\n",
    "metadata = pd.read_json(f'{config.root}/videos_test/metadata.json').T\n",
    "\n",
    "labels = labels.set_index('filename')\n",
    "video_map = {os.path.basename(p): p for p in videos}\n",
    "labels.label.hist()"
   ]
  },
  {
   "cell_type": "code",
   "execution_count": null,
   "id": "apparent-hanging",
   "metadata": {
    "ExecuteTime": {
     "end_time": "2021-05-13T11:20:30.543983Z",
     "start_time": "2021-05-13T11:20:30.497561Z"
    }
   },
   "outputs": [],
   "source": [
    "vid = videos.index(video_map['aegkavekbj.mp4'])\n",
    "name = os.path.basename(videos[vid])\n",
    "print(name)\n",
    "print(f'label: {labels.loc[name][\"label\"]}')\n",
    "print(f'Metadata: {metadata.loc[name].to_list()}')\n",
    "video_path = videos[vid]\n",
    "Video(video_path, embed=True, width=1280)"
   ]
  },
  {
   "cell_type": "markdown",
   "id": "hindu-album",
   "metadata": {
    "heading_collapsed": true
   },
   "source": [
    "# Reading wandb config with python"
   ]
  },
  {
   "cell_type": "code",
   "execution_count": null,
   "id": "experimental-lease",
   "metadata": {
    "ExecuteTime": {
     "end_time": "2021-05-13T11:13:01.864529Z",
     "start_time": "2021-05-13T11:13:01.849130Z"
    },
    "hidden": true,
    "init_cell": true
   },
   "outputs": [],
   "source": [
    "import torch\n",
    "import yaml\n",
    "from training.datasets import DFDCLightningDataset"
   ]
  },
  {
   "cell_type": "code",
   "execution_count": null,
   "id": "plain-action",
   "metadata": {
    "ExecuteTime": {
     "end_time": "2021-05-13T11:13:01.873221Z",
     "start_time": "2021-05-13T11:13:01.865884Z"
    },
    "hidden": true,
    "init_cell": true
   },
   "outputs": [],
   "source": [
    "class Map(dict):\n",
    "    \"\"\"\n",
    "    Example:\n",
    "    m = Map({'first_name': 'Eduardo'}, last_name='Pool', age=24, sports=['Soccer'])\n",
    "    \"\"\"\n",
    "    def __init__(self, *args, **kwargs):\n",
    "        super(Map, self).__init__(*args, **kwargs)\n",
    "        for arg in args:\n",
    "            if isinstance(arg, dict):\n",
    "                for k, v in arg.items():\n",
    "                    self[k] = v\n",
    "\n",
    "        if kwargs:\n",
    "            for k, v in kwargs.items():\n",
    "                self[k] = v\n",
    "\n",
    "    def __getattr__(self, attr):\n",
    "        return self.get(attr)\n",
    "\n",
    "    def __setattr__(self, key, value):\n",
    "        self.__setitem__(key, value)\n",
    "\n",
    "    def __setitem__(self, key, value):\n",
    "        super(Map, self).__setitem__(key, value)\n",
    "        self.__dict__.update({key: value})\n",
    "\n",
    "    def __delattr__(self, item):\n",
    "        self.__delitem__(item)\n",
    "\n",
    "    def __delitem__(self, key):\n",
    "        super(Map, self).__delitem__(key)\n",
    "        del self.__dict__[key]"
   ]
  },
  {
   "cell_type": "code",
   "execution_count": null,
   "id": "continuing-house",
   "metadata": {
    "ExecuteTime": {
     "end_time": "2021-05-13T11:13:01.883804Z",
     "start_time": "2021-05-13T11:13:01.874446Z"
    },
    "hidden": true,
    "init_cell": true
   },
   "outputs": [],
   "source": [
    "def get_config():\n",
    "    config = {}\n",
    "    with open('training/config-defaults.yaml') as file:\n",
    "        data = yaml.load(file, Loader=yaml.FullLoader)\n",
    "        \n",
    "        for k, v in data.items():\n",
    "            config[k] = v['value']\n",
    "    \n",
    "    return Map(config)"
   ]
  },
  {
   "cell_type": "code",
   "execution_count": null,
   "id": "civilian-latino",
   "metadata": {
    "ExecuteTime": {
     "end_time": "2021-04-10T16:52:22.307301Z",
     "start_time": "2021-04-10T16:52:22.282310Z"
    },
    "hidden": true
   },
   "outputs": [],
   "source": [
    "d = {'detector': 'MTCNN',\n",
    " 'sampling_rate': 30,\n",
    " 'margin': 30,\n",
    " 'thresholds_mtcnn': None,\n",
    " 'min_face_size': 60,\n",
    " 'image_size': 224,\n",
    " 'batch_size': 64,\n",
    " 'load_pretrained': True,\n",
    " 'load_checkpoint': False,\n",
    " 'use_chunks': False,\n",
    " 'project': 'DFDC-test',\n",
    " 'model_name': 'tf_efficientnet_b0_ns',\n",
    " 'run_name': 'efnet-b0-ns-accumulate-grad8',\n",
    " 'notes': 'increasing cut size to 32',\n",
    " 'resume_from': None,\n",
    " 'epochs': 5,\n",
    " 'target_size': 2,\n",
    " 'output_weights': None,\n",
    " 'device': 'cuda',\n",
    " 'gpus': 1,\n",
    " 'precision': 16,\n",
    " 'accumulate_grad_batches': 8,\n",
    " 'limit_train_batches': 1.0,\n",
    " 'opt_name': 'Adam',\n",
    " 'lr_scheduler': 'step',\n",
    " 'lr_min': 1e-05,\n",
    " 'lr_max': 0.001,\n",
    " 'lr_gamma': 0.5,\n",
    " 'lr_mode': 'triangular2',\n",
    " 'lr_step_size': 2,\n",
    " 'lr_t0': 5,\n",
    " 'lr_tmult': 1,\n",
    " 'val_freq': 1,\n",
    " 'log_freq': 10}\n",
    "with open('result.yml', 'w') as yaml_file:\n",
    "    yaml.dump(d, yaml_file, default_flow_style=False)"
   ]
  },
  {
   "cell_type": "code",
   "execution_count": null,
   "id": "numerous-warren",
   "metadata": {
    "ExecuteTime": {
     "end_time": "2021-04-03T19:03:08.259828Z",
     "start_time": "2021-04-03T19:03:08.119820Z"
    },
    "hidden": true
   },
   "outputs": [],
   "source": [
    "dataset = DFDCLightningDataset(get_config())\n",
    "dataset.prepare_data()\n",
    "loader = dataset.train_dataloader()"
   ]
  },
  {
   "cell_type": "markdown",
   "id": "dangerous-publisher",
   "metadata": {
    "heading_collapsed": true
   },
   "source": [
    "# Testing pretrained model"
   ]
  },
  {
   "cell_type": "code",
   "execution_count": null,
   "id": "strange-gender",
   "metadata": {
    "ExecuteTime": {
     "end_time": "2021-04-11T11:59:27.973256Z",
     "start_time": "2021-04-11T11:59:27.697941Z"
    },
    "hidden": true,
    "scrolled": true
   },
   "outputs": [],
   "source": [
    "import wandb\n",
    "from pytorch_lightning import Trainer\n",
    "\n",
    "from training.datasets import DFDCLightningDataset\n",
    "from training.model_zoo import DFDCModels\n",
    "import local_properties\n",
    "import config\n",
    "import os\n",
    "os.environ['REQUESTS_CA_BUNDLE'] = local_properties.SSL_CERTIFICATE_PATH"
   ]
  },
  {
   "cell_type": "code",
   "execution_count": null,
   "id": "affecting-township",
   "metadata": {
    "ExecuteTime": {
     "end_time": "2021-04-11T11:59:29.193127Z",
     "start_time": "2021-04-11T11:59:28.984432Z"
    },
    "hidden": true
   },
   "outputs": [],
   "source": [
    "# model.load_state_dict(checkpoint['state_dict'])\n",
    "params = get_config()\n",
    "dataset = DFDCLightningDataset(params)\n",
    "model = DFDCModels(params)\n",
    "\n",
    "runs = {\n",
    "   \"1llb9qpj\": \"tf_efficientnet_b0_ns-1llb9qpj-epoch=03-val_loss=0.0168.ckpt\",\n",
    "    \"5qis6ixz\": \"efb0-ns-epoch=02-val_loss=0.0237.ckpt\",\n",
    "    \"b9nqa6xq\":\"efb0-v1-epoch=03-val_loss=0.0115.ckpt\"\n",
    "}\n",
    "\n",
    "trainer = Trainer(\n",
    "    gpus = params.gpus,\n",
    "    precision = params.precision,\n",
    "    max_epochs=0\n",
    ")\n",
    "# wandb.finish()"
   ]
  },
  {
   "cell_type": "code",
   "execution_count": null,
   "id": "capital-wrong",
   "metadata": {
    "ExecuteTime": {
     "end_time": "2021-04-11T12:35:35.713140Z",
     "start_time": "2021-04-11T11:59:40.238057Z"
    },
    "hidden": true
   },
   "outputs": [],
   "source": [
    "fitted = False\n",
    "\n",
    "for run_id, ckpt_name in runs.items():\n",
    "    wandb.init(id = run_id)\n",
    "    if not fitted:\n",
    "        trainer.fit(model, dataset)\n",
    "    p = os.path.join(config.CHECKPOINT_PATH, ckpt_name)\n",
    "    print(f\"{p} : {os.path.exists(p)}\")\n",
    "    trainer.test(ckpt_path = p)\n",
    "    wandb.finish()\n",
    "    fitted = True"
   ]
  },
  {
   "cell_type": "code",
   "execution_count": null,
   "id": "baking-singing",
   "metadata": {
    "ExecuteTime": {
     "end_time": "2021-04-11T11:44:02.194513Z",
     "start_time": "2021-04-11T11:44:00.349380Z"
    },
    "hidden": true
   },
   "outputs": [],
   "source": [
    "trainer.test(ckpt_path='D:/DFDC/checkpoints/tf_efficientnet_b0_ns-1llb9qpj-epoch=03-val_loss=0.0168.ckpt')"
   ]
  },
  {
   "cell_type": "code",
   "execution_count": null,
   "id": "catholic-tower",
   "metadata": {
    "ExecuteTime": {
     "end_time": "2021-04-03T19:02:37.479538Z",
     "start_time": "2021-04-03T19:02:37.419539Z"
    },
    "hidden": true,
    "scrolled": true
   },
   "outputs": [],
   "source": [
    "model.to('cuda')\n",
    "model.freeze()\n",
    "model.eval()"
   ]
  },
  {
   "cell_type": "markdown",
   "id": "colored-momentum",
   "metadata": {
    "heading_collapsed": true
   },
   "source": [
    "# Loading pre-trained model v2"
   ]
  },
  {
   "cell_type": "code",
   "execution_count": null,
   "id": "missing-indicator",
   "metadata": {
    "ExecuteTime": {
     "end_time": "2021-04-27T18:02:15.671021Z",
     "start_time": "2021-04-27T18:02:15.411756Z"
    },
    "hidden": true
   },
   "outputs": [],
   "source": [
    "import os\n",
    "import sys\n",
    "from training.model_zoo import DFDCModels\n",
    "\n",
    "os.chdir('training')"
   ]
  },
  {
   "cell_type": "code",
   "execution_count": null,
   "id": "copyrighted-ground",
   "metadata": {
    "ExecuteTime": {
     "end_time": "2021-04-27T18:13:55.829681Z",
     "start_time": "2021-04-27T18:13:55.800683Z"
    },
    "hidden": true
   },
   "outputs": [],
   "source": [
    "from pytorch_lightning.loggers import WandbLogger\n",
    "def headlines():\n",
    "    with open('config-defaults.yaml') as file:\n",
    "        data = yaml.load(file, Loader=yaml.FullLoader)\n",
    "        return data['project']['value'], data['run_name']['value']\n",
    "project, name = headlines()\n",
    "wandb_logger = WandbLogger(project=project, name=name, mode='offline')\n",
    "config = wandb_logger.experiment.config"
   ]
  },
  {
   "cell_type": "code",
   "execution_count": null,
   "id": "understood-genome",
   "metadata": {
    "ExecuteTime": {
     "end_time": "2021-04-27T18:13:56.696362Z",
     "start_time": "2021-04-27T18:13:56.682371Z"
    },
    "hidden": true
   },
   "outputs": [],
   "source": [
    "if config.load_checkpoint:\n",
    "    print(config.load_checkpoint)"
   ]
  },
  {
   "cell_type": "code",
   "execution_count": null,
   "id": "spare-sydney",
   "metadata": {
    "ExecuteTime": {
     "end_time": "2021-04-27T18:13:57.646258Z",
     "start_time": "2021-04-27T18:13:57.511445Z"
    },
    "hidden": true,
    "scrolled": true
   },
   "outputs": [],
   "source": [
    "model = DFDCModels(config)"
   ]
  },
  {
   "cell_type": "code",
   "execution_count": null,
   "id": "integrated-solomon",
   "metadata": {
    "ExecuteTime": {
     "end_time": "2021-04-27T18:13:59.099590Z",
     "start_time": "2021-04-27T18:13:58.837192Z"
    },
    "hidden": true
   },
   "outputs": [],
   "source": [
    "import torch\n",
    "checkpoint = torch.load('D:/DFDC/checkpoints/efb0-ns-epoch=02-val_loss=0.0237.ckpt')\n",
    "model.load_state_dict(checkpoint['state_dict'])"
   ]
  },
  {
   "cell_type": "code",
   "execution_count": null,
   "id": "mathematical-sydney",
   "metadata": {
    "ExecuteTime": {
     "end_time": "2021-04-27T18:14:00.544807Z",
     "start_time": "2021-04-27T18:14:00.534803Z"
    },
    "hidden": true
   },
   "outputs": [],
   "source": [
    "checkpoint.keys()"
   ]
  },
  {
   "cell_type": "code",
   "execution_count": null,
   "id": "stock-saudi",
   "metadata": {
    "ExecuteTime": {
     "end_time": "2021-04-27T18:14:02.130041Z",
     "start_time": "2021-04-27T18:14:02.069012Z"
    },
    "hidden": true
   },
   "outputs": [],
   "source": [
    "model.to('cuda')\n",
    "model.freeze()\n",
    "model.eval()"
   ]
  },
  {
   "cell_type": "code",
   "execution_count": null,
   "id": "elder-nigeria",
   "metadata": {
    "ExecuteTime": {
     "end_time": "2021-04-27T18:14:04.012291Z",
     "start_time": "2021-04-27T18:14:03.993286Z"
    },
    "hidden": true
   },
   "outputs": [],
   "source": [
    "from datasets import DFDCDatasetImages\n",
    "from PIL import Image"
   ]
  },
  {
   "cell_type": "code",
   "execution_count": null,
   "id": "southwest-bleeding",
   "metadata": {
    "ExecuteTime": {
     "end_time": "2021-04-27T18:26:44.617235Z",
     "start_time": "2021-04-27T18:26:44.598235Z"
    },
    "hidden": true
   },
   "outputs": [],
   "source": [
    "images, labels, file_paths = [],[],[]"
   ]
  },
  {
   "cell_type": "code",
   "execution_count": null,
   "id": "stupid-discharge",
   "metadata": {
    "ExecuteTime": {
     "end_time": "2021-04-27T18:27:41.343500Z",
     "start_time": "2021-04-27T18:27:41.303520Z"
    },
    "hidden": true
   },
   "outputs": [],
   "source": [
    "test_data = DFDCDatasetImages(data='test', mode='valid')\n",
    "image, label, file_path = test_data[4356]\n",
    "images.append(image)\n",
    "labels.append(label)\n",
    "file_paths.append(file_path)"
   ]
  },
  {
   "cell_type": "code",
   "execution_count": null,
   "id": "adaptive-catch",
   "metadata": {
    "ExecuteTime": {
     "end_time": "2021-04-27T18:47:15.079997Z",
     "start_time": "2021-04-27T18:47:15.056994Z"
    },
    "hidden": true
   },
   "outputs": [],
   "source": [
    "im = Image.open(file_paths[3])\n",
    "im"
   ]
  },
  {
   "cell_type": "code",
   "execution_count": null,
   "id": "neutral-august",
   "metadata": {
    "ExecuteTime": {
     "end_time": "2021-04-27T18:47:15.859362Z",
     "start_time": "2021-04-27T18:47:15.824313Z"
    },
    "hidden": true
   },
   "outputs": [],
   "source": [
    "model(torch.unsqueeze(image.to('cuda'), 0))"
   ]
  },
  {
   "cell_type": "code",
   "execution_count": null,
   "id": "american-senator",
   "metadata": {
    "ExecuteTime": {
     "end_time": "2021-04-27T18:47:30.471433Z",
     "start_time": "2021-04-27T18:47:30.442268Z"
    },
    "hidden": true
   },
   "outputs": [],
   "source": [
    "logits_sig = torch.sigmoid(model(torch.unsqueeze(image.to('cuda'), 0)))\n",
    "logits_sig, torch.argmax(logits_sig, dim=1)"
   ]
  },
  {
   "cell_type": "code",
   "execution_count": null,
   "id": "gothic-lodging",
   "metadata": {
    "ExecuteTime": {
     "end_time": "2021-04-27T18:21:44.490664Z",
     "start_time": "2021-04-27T18:21:44.472699Z"
    },
    "hidden": true
   },
   "outputs": [],
   "source": [
    "0.9821 + 0.0192, 9.9964e-01 + 3.5716e-04"
   ]
  },
  {
   "cell_type": "code",
   "execution_count": null,
   "id": "crazy-procedure",
   "metadata": {
    "ExecuteTime": {
     "end_time": "2021-04-27T18:47:36.221470Z",
     "start_time": "2021-04-27T18:47:36.193137Z"
    },
    "hidden": true
   },
   "outputs": [],
   "source": [
    "logits_soft = torch.nn.functional.softmax(model(torch.unsqueeze(image.to('cuda'), 0)))\n",
    "logits_soft, torch.argmax(logits_soft, dim=1)"
   ]
  },
  {
   "cell_type": "markdown",
   "id": "sudden-drove",
   "metadata": {
    "heading_collapsed": true
   },
   "source": [
    "# Messing around with metrics"
   ]
  },
  {
   "cell_type": "code",
   "execution_count": null,
   "id": "innocent-buffer",
   "metadata": {
    "ExecuteTime": {
     "end_time": "2021-04-04T11:13:44.289736Z",
     "start_time": "2021-04-04T11:13:44.271728Z"
    },
    "hidden": true
   },
   "outputs": [],
   "source": [
    "import torch\n",
    "from torchmetrics.functional import accuracy, precision_recall_curve, precision, recall\n",
    "from torchmetrics import Accuracy, Precision, Recall, MetricCollection"
   ]
  },
  {
   "cell_type": "code",
   "execution_count": null,
   "id": "widespread-airplane",
   "metadata": {
    "ExecuteTime": {
     "end_time": "2021-04-04T11:13:45.022912Z",
     "start_time": "2021-04-04T11:13:44.999876Z"
    },
    "hidden": true
   },
   "outputs": [],
   "source": [
    "metric = MetricCollection([Accuracy(), Precision(), Recall()])"
   ]
  },
  {
   "cell_type": "code",
   "execution_count": null,
   "id": "israeli-playback",
   "metadata": {
    "ExecuteTime": {
     "end_time": "2021-04-04T11:13:46.411556Z",
     "start_time": "2021-04-04T11:13:46.365531Z"
    },
    "hidden": true
   },
   "outputs": [],
   "source": [
    "target = torch.tensor([[0.3, -0.1], [0.51, 0.49]])\n",
    "preds = torch.tensor([0, 1, 0, 0])\n",
    "\n",
    "# metric(preds, target)"
   ]
  },
  {
   "cell_type": "code",
   "execution_count": null,
   "id": "atomic-connection",
   "metadata": {
    "hidden": true
   },
   "outputs": [],
   "source": [
    "confidence = torch.softmax(target.to('cuda'), 1)\n",
    "confidence"
   ]
  },
  {
   "cell_type": "code",
   "execution_count": null,
   "id": "challenging-franchise",
   "metadata": {
    "hidden": true
   },
   "outputs": [],
   "source": [
    "torch.max(confidence, dim=1).values.cpu().numpy()"
   ]
  },
  {
   "cell_type": "code",
   "execution_count": null,
   "id": "hispanic-slope",
   "metadata": {
    "ExecuteTime": {
     "end_time": "2021-04-03T21:32:15.864934Z",
     "start_time": "2021-04-03T21:32:15.323968Z"
    },
    "hidden": true,
    "scrolled": true
   },
   "outputs": [],
   "source": [
    "for img, label in loader:\n",
    "    y_hat1 = model(img.to('cuda'))\n",
    "    y_sigm = torch.sigmoid(y_hat1.squeeze())\n",
    "    y_hat = torch.argmax(y_sigm, dim=1)\n",
    "    print(metric(y_hat.cpu(), label))\n",
    "    break"
   ]
  },
  {
   "cell_type": "code",
   "execution_count": null,
   "id": "mechanical-circuit",
   "metadata": {
    "ExecuteTime": {
     "end_time": "2021-04-03T20:12:23.322752Z",
     "start_time": "2021-04-03T20:12:23.307753Z"
    },
    "hidden": true
   },
   "outputs": [],
   "source": [
    "from sklearn.metrics import f1_score, recall_score, precision_score, accuracy_score, confusion_matrix, classification_report"
   ]
  },
  {
   "cell_type": "code",
   "execution_count": null,
   "id": "equipped-elevation",
   "metadata": {
    "ExecuteTime": {
     "end_time": "2021-04-03T21:57:28.669233Z",
     "start_time": "2021-04-03T21:57:28.645266Z"
    },
    "hidden": true
   },
   "outputs": [],
   "source": [
    "confusion_matrix(label, y_hat.cpu())"
   ]
  },
  {
   "cell_type": "code",
   "execution_count": null,
   "id": "another-sponsorship",
   "metadata": {
    "ExecuteTime": {
     "end_time": "2021-04-03T21:34:03.026457Z",
     "start_time": "2021-04-03T21:34:02.998364Z"
    },
    "hidden": true
   },
   "outputs": [],
   "source": [
    "for c in [0,1]:\n",
    "    print(c)\n",
    "    for f in [f1_score, recall_score, precision_score]:\n",
    "            print(f'{f.__name__} : {f(label, y_hat.cpu(), pos_label=c):.4f}')\n",
    "    print('-'*65)\n",
    "print(f\"Accuracy: {accuracy_score(label, y_hat.cpu()):.4f}\")"
   ]
  },
  {
   "cell_type": "code",
   "execution_count": null,
   "id": "owned-mainstream",
   "metadata": {
    "ExecuteTime": {
     "end_time": "2021-04-03T20:45:25.926295Z",
     "start_time": "2021-04-03T20:45:25.912268Z"
    },
    "hidden": true
   },
   "outputs": [],
   "source": [
    "print(classification_report(label, y_hat))"
   ]
  },
  {
   "cell_type": "markdown",
   "id": "adolescent-immune",
   "metadata": {
    "heading_collapsed": true
   },
   "source": [
    "# Some stuff about face coordinates"
   ]
  },
  {
   "cell_type": "code",
   "execution_count": null,
   "id": "honey-ocean",
   "metadata": {
    "ExecuteTime": {
     "end_time": "2021-03-21T18:16:41.391948Z",
     "start_time": "2021-03-21T18:16:41.388947Z"
    },
    "hidden": true
   },
   "outputs": [],
   "source": [
    "all_coordinate_files = glob.glob(os.path.dirname(config.FACE_COORDINATES_PATH) +'/*.json')"
   ]
  },
  {
   "cell_type": "code",
   "execution_count": null,
   "id": "labeled-particular",
   "metadata": {
    "ExecuteTime": {
     "end_time": "2021-03-21T17:47:39.500973Z",
     "start_time": "2021-03-21T17:47:36.548988Z"
    },
    "hidden": true
   },
   "outputs": [],
   "source": [
    "# no face detected\n",
    "total = 0\n",
    "for file in all_coordinate_files:\n",
    "    face_coordinates = pd.read_json(file).T\n",
    "    no_face_videos = face_coordinates[face_coordinates.isnull().all(1)==True]\n",
    "    if len(no_face_videos) > 0:\n",
    "        print(os.path.basename(file), no_face_videos.index.to_list())\n",
    "        total+=len(no_face_videos)\n",
    "print(f'Total is {total}')"
   ]
  },
  {
   "cell_type": "code",
   "execution_count": null,
   "id": "opponent-handy",
   "metadata": {
    "ExecuteTime": {
     "end_time": "2021-03-21T17:51:49.774735Z",
     "start_time": "2021-03-21T17:51:49.770736Z"
    },
    "hidden": true
   },
   "outputs": [],
   "source": [
    "len(all_coordinate_files)"
   ]
  },
  {
   "cell_type": "code",
   "execution_count": null,
   "id": "sought-damage",
   "metadata": {
    "ExecuteTime": {
     "end_time": "2021-03-21T18:19:47.087283Z",
     "start_time": "2021-03-21T18:19:44.316295Z"
    },
    "hidden": true
   },
   "outputs": [],
   "source": [
    "total = 0\n",
    "total_video_count = 0\n",
    "part_counter = 0\n",
    "\n",
    "for file in all_coordinate_files:\n",
    "    part_counter += 1\n",
    "    face_coordinates = pd.read_json(file).T\n",
    "    \n",
    "    total_video_count += len(face_coordinates)\n",
    "    all_face = face_coordinates[face_coordinates.notna().sum(1) > 10]\n",
    "    if len(all_face) > 0:\n",
    "        total += len(all_face)\n",
    "print(total)"
   ]
  },
  {
   "cell_type": "code",
   "execution_count": null,
   "id": "knowing-ridge",
   "metadata": {
    "ExecuteTime": {
     "end_time": "2021-03-21T19:18:40.464196Z",
     "start_time": "2021-03-21T19:18:40.461197Z"
    },
    "hidden": true
   },
   "outputs": [],
   "source": [
    "336*128"
   ]
  },
  {
   "cell_type": "code",
   "execution_count": null,
   "id": "governing-cambridge",
   "metadata": {
    "ExecuteTime": {
     "end_time": "2021-03-21T18:19:49.103276Z",
     "start_time": "2021-03-21T18:19:49.100276Z"
    },
    "hidden": true
   },
   "outputs": [],
   "source": [
    "1386+701"
   ]
  },
  {
   "cell_type": "code",
   "execution_count": null,
   "id": "intelligent-commonwealth",
   "metadata": {
    "ExecuteTime": {
     "end_time": "2021-03-21T18:18:27.566565Z",
     "start_time": "2021-03-21T18:18:27.541564Z"
    },
    "hidden": true,
    "scrolled": true
   },
   "outputs": [],
   "source": [
    "face_coordinates[face_coordinates.notna().sum(1) < 9]"
   ]
  },
  {
   "cell_type": "code",
   "execution_count": null,
   "id": "super-newton",
   "metadata": {
    "ExecuteTime": {
     "end_time": "2021-03-21T18:11:19.658108Z",
     "start_time": "2021-03-21T18:11:19.654106Z"
    },
    "hidden": true
   },
   "outputs": [],
   "source": [
    "def display_images(images, cols = 5, titles=None, figsize=(64, 16)):\n",
    "    plt.figure(figsize=figsize)\n",
    "    rows = len(images) // cols + 1\n",
    "    \n",
    "    if titles is None:\n",
    "        titles = ['']*len(images)\n",
    "    \n",
    "    for i, (img, title) in enumerate(zip(images, titles)):\n",
    "        plt.subplot(rows, cols, i + 1)\n",
    "        plt.title(title)\n",
    "        plt.imshow(img)     \n",
    "        \n",
    "        plt.tick_params(\n",
    "        axis='x',          # changes apply to the x-axis\n",
    "        which='both',      # both major and minor ticks are affected\n",
    "        bottom=False,      # ticks along the bottom edge are off\n",
    "        top=False,         # ticks along the top edge are off\n",
    "        labelbottom=False) # labels along the bottom edge are off\n",
    "        plt.tick_params(\n",
    "        axis='y',          # changes apply to the y-axis\n",
    "        which='both',      # both major and minor ticks are affected\n",
    "        left=False,      # ticks along the bottom edge are off\n",
    "        labelleft=False) # labels along the bottom edge are off"
   ]
  },
  {
   "cell_type": "code",
   "execution_count": null,
   "id": "hairy-friday",
   "metadata": {
    "ExecuteTime": {
     "end_time": "2021-03-20T18:18:27.978871Z",
     "start_time": "2021-03-20T18:18:27.966872Z"
    },
    "hidden": true
   },
   "outputs": [],
   "source": [
    "video_names = glob.glob(config.VIDEO_PATH)"
   ]
  },
  {
   "cell_type": "code",
   "execution_count": null,
   "id": "civilian-adoption",
   "metadata": {
    "ExecuteTime": {
     "end_time": "2021-03-20T18:18:18.155878Z",
     "start_time": "2021-03-20T18:18:16.293825Z"
    },
    "hidden": true
   },
   "outputs": [],
   "source": [
    "from facenet_pytorch.models.mtcnn import MTCNN\n",
    "\n",
    "mtcnn = MTCNN(**config.FACE_DETECTOR_KWARGS)"
   ]
  },
  {
   "cell_type": "code",
   "execution_count": null,
   "id": "private-carpet",
   "metadata": {
    "ExecuteTime": {
     "end_time": "2021-03-20T18:18:29.901867Z",
     "start_time": "2021-03-20T18:18:29.893867Z"
    },
    "hidden": true
   },
   "outputs": [],
   "source": [
    "for i,v in enumerate(video_names):\n",
    "    if 'ulubxioaxe.mp4' == os.path.basename(v):\n",
    "        print(i)\n",
    "        break"
   ]
  },
  {
   "cell_type": "code",
   "execution_count": null,
   "id": "under-australia",
   "metadata": {
    "hidden": true
   },
   "outputs": [],
   "source": []
  },
  {
   "cell_type": "code",
   "execution_count": null,
   "id": "going-vision",
   "metadata": {
    "ExecuteTime": {
     "end_time": "2021-03-21T18:10:45.079229Z",
     "start_time": "2021-03-21T18:10:44.286232Z"
    },
    "hidden": true,
    "scrolled": true
   },
   "outputs": [],
   "source": [
    "video = VideoReader('vninpbciju.mp4', face_coordinates)\n",
    "faces, labels = video.extract_faces_v2()"
   ]
  },
  {
   "cell_type": "code",
   "execution_count": null,
   "id": "useful-lottery",
   "metadata": {
    "ExecuteTime": {
     "end_time": "2021-03-21T18:13:48.664570Z",
     "start_time": "2021-03-21T18:13:48.645569Z"
    },
    "hidden": true
   },
   "outputs": [],
   "source": [
    "import cv2\n",
    "\n",
    "cap = cv2.VideoCapture(video.path)\n",
    "cap.get(cv2.CAP_PROP_FRAME_COUNT)"
   ]
  },
  {
   "cell_type": "code",
   "execution_count": null,
   "id": "substantial-brown",
   "metadata": {
    "ExecuteTime": {
     "end_time": "2021-03-21T18:13:07.073719Z",
     "start_time": "2021-03-21T18:13:07.069718Z"
    },
    "hidden": true
   },
   "outputs": [],
   "source": [
    "video.path"
   ]
  },
  {
   "cell_type": "code",
   "execution_count": null,
   "id": "guided-slovenia",
   "metadata": {
    "ExecuteTime": {
     "end_time": "2021-03-21T18:11:25.506085Z",
     "start_time": "2021-03-21T18:11:23.030093Z"
    },
    "hidden": true
   },
   "outputs": [],
   "source": [
    "display_images(faces)"
   ]
  },
  {
   "cell_type": "code",
   "execution_count": null,
   "id": "parliamentary-democracy",
   "metadata": {
    "ExecuteTime": {
     "end_time": "2021-03-20T18:10:51.465814Z",
     "start_time": "2021-03-20T18:10:51.246812Z"
    },
    "hidden": true
   },
   "outputs": [],
   "source": [
    "from IPython.display import Video\n",
    "Video(video.path, embed=True, width=640)"
   ]
  },
  {
   "cell_type": "code",
   "execution_count": null,
   "id": "judicial-kazakhstan",
   "metadata": {
    "ExecuteTime": {
     "end_time": "2021-03-20T18:05:45.805315Z",
     "start_time": "2021-03-20T18:05:44.351318Z"
    },
    "hidden": true,
    "scrolled": true
   },
   "outputs": [],
   "source": [
    "res = mtcnn.detect(frames)"
   ]
  },
  {
   "cell_type": "code",
   "execution_count": null,
   "id": "dutch-alaska",
   "metadata": {
    "ExecuteTime": {
     "end_time": "2021-03-20T18:05:45.868316Z",
     "start_time": "2021-03-20T18:05:45.864317Z"
    },
    "hidden": true
   },
   "outputs": [],
   "source": [
    "boxes, preds = res\n",
    "\n",
    "for b, p in zip(boxes, preds):\n",
    "    print(b,p)"
   ]
  },
  {
   "cell_type": "code",
   "execution_count": null,
   "id": "played-kansas",
   "metadata": {
    "ExecuteTime": {
     "end_time": "2021-03-20T18:05:25.050340Z",
     "start_time": "2021-03-20T18:05:25.023342Z"
    },
    "hidden": true
   },
   "outputs": [],
   "source": [
    "frames[0].crop(boxes[0][-1])"
   ]
  },
  {
   "cell_type": "code",
   "execution_count": null,
   "id": "varying-jacob",
   "metadata": {
    "ExecuteTime": {
     "end_time": "2021-03-19T19:33:20.127929Z",
     "start_time": "2021-03-19T19:33:20.120929Z"
    },
    "hidden": true
   },
   "outputs": [],
   "source": [
    "new_boxes, new_preds = [], []\n",
    "\n",
    "for b, p in zip(boxes, preds):\n",
    "    new_boxes.append(b[:2].tolist())\n",
    "    new_preds.append(p[:2].tolist())\n",
    "\n",
    "for b, p in zip(new_boxes, new_preds):\n",
    "    print(b,p)"
   ]
  },
  {
   "cell_type": "code",
   "execution_count": null,
   "id": "superior-jungle",
   "metadata": {
    "ExecuteTime": {
     "end_time": "2021-03-19T19:28:17.590943Z",
     "start_time": "2021-03-19T19:28:17.561943Z"
    },
    "hidden": true
   },
   "outputs": [],
   "source": [
    "for i, (id, row) in enumerate(face_coordinates.iterrows()):\n",
    "    for j, r in enumerate(row):\n",
    "        if r is not None and type(r) == list:\n",
    "            if len(r) > 2:\n",
    "                print(i, j, id, len(r))\n",
    "        "
   ]
  }
 ],
 "metadata": {
  "celltoolbar": "Initialization Cell",
  "kernelspec": {
   "display_name": "Python 3",
   "language": "python",
   "name": "python3"
  },
  "language_info": {
   "codemirror_mode": {
    "name": "ipython",
    "version": 3
   },
   "file_extension": ".py",
   "mimetype": "text/x-python",
   "name": "python",
   "nbconvert_exporter": "python",
   "pygments_lexer": "ipython3",
   "version": "3.7.10"
  },
  "toc": {
   "base_numbering": 1,
   "nav_menu": {},
   "number_sections": true,
   "sideBar": true,
   "skip_h1_title": false,
   "title_cell": "Table of Contents",
   "title_sidebar": "Contents",
   "toc_cell": false,
   "toc_position": {
    "height": "calc(100% - 180px)",
    "left": "10px",
    "top": "150px",
    "width": "290.35px"
   },
   "toc_section_display": true,
   "toc_window_display": true
  },
  "toc-autonumbering": true,
  "varInspector": {
   "cols": {
    "lenName": "20",
    "lenType": 16,
    "lenVar": "80"
   },
   "kernels_config": {
    "python": {
     "delete_cmd_postfix": "",
     "delete_cmd_prefix": "del ",
     "library": "var_list.py",
     "varRefreshCmd": "print(var_dic_list())"
    },
    "r": {
     "delete_cmd_postfix": ") ",
     "delete_cmd_prefix": "rm(",
     "library": "var_list.r",
     "varRefreshCmd": "cat(var_dic_list()) "
    }
   },
   "position": {
    "height": "494.969px",
    "left": "1505.89px",
    "right": "20px",
    "top": "114.953px",
    "width": "346.938px"
   },
   "types_to_exclude": [
    "module",
    "function",
    "builtin_function_or_method",
    "instance",
    "_Feature"
   ],
   "window_display": false
  }
 },
 "nbformat": 4,
 "nbformat_minor": 5
}
