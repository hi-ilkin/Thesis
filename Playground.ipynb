{
 "cells": [
  {
   "cell_type": "markdown",
   "id": "above-costs",
   "metadata": {},
   "source": [
    "# Misc"
   ]
  },
  {
   "cell_type": "code",
   "execution_count": null,
   "id": "powered-navigation",
   "metadata": {
    "ExecuteTime": {
     "end_time": "2021-03-09T22:22:19.199746Z",
     "start_time": "2021-03-09T22:22:18.941746Z"
    }
   },
   "outputs": [],
   "source": [
    "# changing theme\n",
    "# !jt -t chesterish \n",
    "# !jt -t onedork -fs 100 -altp -tfs 14 -nfs 115 -T\n",
    "# restore default theme\n",
    "!jt -r"
   ]
  },
  {
   "cell_type": "markdown",
   "id": "atmospheric-journalist",
   "metadata": {},
   "source": [
    "# Comparing fake and real faces"
   ]
  },
  {
   "cell_type": "code",
   "execution_count": null,
   "id": "right-massage",
   "metadata": {
    "ExecuteTime": {
     "end_time": "2021-03-09T18:28:29.974027Z",
     "start_time": "2021-03-09T18:28:25.816028Z"
    },
    "scrolled": true
   },
   "outputs": [],
   "source": [
    "import sys \n",
    "sys.path.append(r'C:\\Users\\Jonas\\PycharmProjects\\IlkinThesis\\ThesisExperiments')\n",
    "from IPython.display import Image, Video\n",
    "\n",
    "import cv2\n",
    "import os\n",
    "import glob\n",
    "import numpy as np\n",
    "import pandas as pd\n",
    "import matplotlib.pyplot as plt\n",
    "\n",
    "from sklearn.cluster import AgglomerativeClustering\n",
    "\n",
    "import config\n",
    "import cleaning_with_face_recognition as rec"
   ]
  },
  {
   "cell_type": "code",
   "execution_count": null,
   "id": "corresponding-anthony",
   "metadata": {
    "ExecuteTime": {
     "end_time": "2021-03-09T18:40:23.047947Z",
     "start_time": "2021-03-09T18:40:22.110946Z"
    },
    "scrolled": true
   },
   "outputs": [],
   "source": [
    "# finds multiple face folders\n",
    "folders = glob.glob(config.FACE_IMAGES + '/*')\n",
    "metadata = pd.read_json(config.METADATA_PATH).T\n",
    "\n",
    "multiple_face_videos = []\n",
    "\n",
    "for f in folders:\n",
    "    imgs = glob.glob(f + '/*')\n",
    "    if len(imgs) < 30:\n",
    "        continue\n",
    "    if metadata.loc[os.path.basename(f)]['label'] == 'REAL':\n",
    "        continue\n",
    "    org = metadata.loc[os.path.basename(f)]['original']\n",
    "    print(f, len(imgs), org)\n",
    "    multiple_face_videos.append((f, org))\n",
    "    fake_path = f\n",
    "    real_path = os.path.join(config.FACE_IMAGES, metadata.loc[os.path.basename(f)]['original'])\n",
    "    \n"
   ]
  },
  {
   "cell_type": "markdown",
   "id": "frozen-stone",
   "metadata": {},
   "source": [
    "## Helper classes & functions"
   ]
  },
  {
   "cell_type": "code",
   "execution_count": null,
   "id": "incorporate-coalition",
   "metadata": {
    "ExecuteTime": {
     "end_time": "2021-03-09T19:12:17.938461Z",
     "start_time": "2021-03-09T19:12:17.934460Z"
    }
   },
   "outputs": [],
   "source": [
    "class Face:\n",
    "    def __init__(self, path):\n",
    "        self.face = cv2.imread(path)\n",
    "    \n",
    "    def __sub__(self, other):\n",
    "        diff = abs(self.face.astype('int') - other.face.astype('int'))\n",
    "        return diff\n",
    "    \n",
    "    def get(self, type='rgb'):\n",
    "        if type == 'bgr':\n",
    "            return self.face\n",
    "        elif type == 'rgb':\n",
    "            return cv2.cvtColor(self.face, cv2.COLOR_BGR2RGB)\n",
    "        elif type == 'gray':\n",
    "            return cv2.cvtColor(self.face, cv2.COLOR_BGR2GRAY)"
   ]
  },
  {
   "cell_type": "code",
   "execution_count": null,
   "id": "derived-beverage",
   "metadata": {
    "ExecuteTime": {
     "end_time": "2021-03-09T18:28:54.369029Z",
     "start_time": "2021-03-09T18:28:54.366026Z"
    }
   },
   "outputs": [],
   "source": [
    "class Loader:\n",
    "    def __init__(self, path):\n",
    "        self.path = path\n",
    "        self.names = glob.glob(path + '/*')\n",
    "        \n",
    "    def __getitem__(self, idx):\n",
    "        return self.names[idx]\n",
    "    \n",
    "    def __len__(self):\n",
    "        return len(self.names)"
   ]
  },
  {
   "cell_type": "code",
   "execution_count": null,
   "id": "entitled-gender",
   "metadata": {
    "ExecuteTime": {
     "end_time": "2021-03-09T18:28:56.033045Z",
     "start_time": "2021-03-09T18:28:56.030044Z"
    }
   },
   "outputs": [],
   "source": [
    "class Metadata:\n",
    "    def __init__(self, path):\n",
    "        self.metadata = pd.read_json(config.METADATA_PATH).T\n",
    "    \n",
    "    def __getitem__(self, name):\n",
    "        return self.metadata.loc[name][['label','original']].values"
   ]
  },
  {
   "cell_type": "code",
   "execution_count": null,
   "id": "continent-double",
   "metadata": {
    "ExecuteTime": {
     "end_time": "2021-03-09T18:28:57.210043Z",
     "start_time": "2021-03-09T18:28:57.206042Z"
    }
   },
   "outputs": [],
   "source": [
    "def display_images(images, cols = 5):\n",
    "    plt.figure(figsize=(32,16))\n",
    "\n",
    "    rows = len(images) // cols + 1\n",
    "    for i, img in enumerate(images):\n",
    "        plt.subplot(rows, cols, i + 1)\n",
    "        plt.imshow(img)     \n",
    "        \n",
    "        plt.tick_params(\n",
    "        axis='x',          # changes apply to the x-axis\n",
    "        which='both',      # both major and minor ticks are affected\n",
    "        bottom=False,      # ticks along the bottom edge are off\n",
    "        top=False,         # ticks along the top edge are off\n",
    "        labelbottom=False) # labels along the bottom edge are off\n",
    "        plt.tick_params(\n",
    "        axis='y',          # changes apply to the y-axis\n",
    "        which='both',      # both major and minor ticks are affected\n",
    "        left=False,      # ticks along the bottom edge are off\n",
    "        labelleft=False) # labels along the bottom edge are off"
   ]
  },
  {
   "cell_type": "markdown",
   "id": "cosmetic-sheep",
   "metadata": {},
   "source": [
    "## Initializing  "
   ]
  },
  {
   "cell_type": "code",
   "execution_count": null,
   "id": "nutritional-rating",
   "metadata": {
    "ExecuteTime": {
     "end_time": "2021-03-09T21:02:54.008237Z",
     "start_time": "2021-03-09T21:02:53.248238Z"
    },
    "scrolled": false
   },
   "outputs": [],
   "source": [
    "metadata = Metadata(config.METADATA_PATH)\n",
    "fake_name, real_name = multiple_face_videos[15]\n",
    "\n",
    "# zlukluvcyp.mp4 37 sccqbzyikm.mp4\n",
    "# ---\n",
    "fake_path = os.path.join(config.FACE_IMAGES, fake_name)\n",
    "real_path = os.path.join(config.FACE_IMAGES, real_name)\n",
    "\n",
    "fakes = Loader(fake_path)\n",
    "reals = Loader(real_path)\n",
    "\n",
    "# --- \n",
    "idx = 6\n",
    "f1 = Face(fakes[idx])\n",
    "f2 = Face(reals[idx])\n",
    "print(f'FAKE\\tREAL\\tDIFF, {np.sum(f1-f2)}')\n",
    "display_images([f1.get('rgb'), f2.get('rgb'), (f1-f2).astype('uint8')], 3)"
   ]
  },
  {
   "cell_type": "markdown",
   "id": "lightweight-lithuania",
   "metadata": {},
   "source": [
    "## Clustering + face diff\n",
    "\n",
    "**Steps**\n",
    "1. Extract encoding for real and fake\n",
    "2. Cluster real and fake seperately\n",
    "3. Relate clusters\n",
    "4. Diff clusters"
   ]
  },
  {
   "cell_type": "code",
   "execution_count": null,
   "id": "rental-reduction",
   "metadata": {
    "ExecuteTime": {
     "end_time": "2021-03-09T21:03:04.312237Z",
     "start_time": "2021-03-09T21:02:55.898238Z"
    }
   },
   "outputs": [],
   "source": [
    "real_encodings = [rec.get_encoding(r) for r in reals]\n",
    "real_clusters = AgglomerativeClustering(n_clusters=None, distance_threshold=0.55, linkage='average').fit(real_encodings)"
   ]
  },
  {
   "cell_type": "code",
   "execution_count": null,
   "id": "occupational-bacon",
   "metadata": {
    "ExecuteTime": {
     "end_time": "2021-03-09T21:13:11.293016Z",
     "start_time": "2021-03-09T21:13:11.290013Z"
    }
   },
   "outputs": [],
   "source": [
    "def cluster_imgs(real_clusters):\n",
    "    clustered_images = {}\n",
    "    for label, p in zip(real_clusters.labels_, reals):\n",
    "        if clustered_images.get(label, None) is None:\n",
    "            clustered_images[label] = []\n",
    "\n",
    "        clustered_images[label].append(Face(p))\n",
    "\n",
    "    clustered_fake_images = {}\n",
    "    for label, p in zip(real_clusters.labels_, fakes):\n",
    "        if clustered_fake_images.get(label, None) is None:\n",
    "            clustered_fake_images[label] = []\n",
    "\n",
    "        clustered_fake_images[label].append(Face(p))\n",
    "    \n",
    "    return clustered_images, clustered_fake_images"
   ]
  },
  {
   "cell_type": "code",
   "execution_count": null,
   "id": "studied-integration",
   "metadata": {
    "ExecuteTime": {
     "end_time": "2021-03-09T21:13:11.988012Z",
     "start_time": "2021-03-09T21:13:11.970016Z"
    }
   },
   "outputs": [],
   "source": [
    "clustered_images, clustered_fake_images = cluster_imgs(real_clusters)"
   ]
  },
  {
   "cell_type": "code",
   "execution_count": null,
   "id": "cordless-killer",
   "metadata": {
    "ExecuteTime": {
     "end_time": "2021-03-09T21:13:12.652014Z",
     "start_time": "2021-03-09T21:13:12.482013Z"
    },
    "scrolled": false
   },
   "outputs": [],
   "source": [
    "plt.figure(figsize=(16, 8))\n",
    "for cluster, imgs in clustered_images.items():\n",
    "    fake_imgs = clustered_fake_images[cluster]\n",
    "    difs = [np.sum(r_img - f_img) for r_img, f_img in zip(imgs, fake_imgs)]\n",
    "    plt.plot(difs, label=cluster, marker='o')\n",
    "    \n",
    "plt.legend()\n",
    "plt.title(f'Difference between cluster images fake: {fake_name} real: {real_name}')\n",
    "plt.savefig(f'outputs/img_dif_{fake_name}-{real_name}.jpg')\n",
    "print(fake_name, real_name)"
   ]
  },
  {
   "cell_type": "code",
   "execution_count": null,
   "id": "returning-faculty",
   "metadata": {
    "ExecuteTime": {
     "end_time": "2021-03-09T21:13:16.445026Z",
     "start_time": "2021-03-09T21:13:16.442025Z"
    },
    "scrolled": false
   },
   "outputs": [],
   "source": [
    "def show_clustered_imgs(clustered_images, clustered_fake_images):\n",
    "    for cluster, imgs in clustered_images.items():\n",
    "        print(cluster)\n",
    "        display_images([i.get('rgb') for i in imgs], 18)\n",
    "        display_images([i.get('rgb') for i in clustered_fake_images[cluster]], 18)"
   ]
  },
  {
   "cell_type": "code",
   "execution_count": null,
   "id": "promotional-theorem",
   "metadata": {
    "ExecuteTime": {
     "end_time": "2021-03-09T21:14:00.213032Z",
     "start_time": "2021-03-09T21:13:53.962031Z"
    }
   },
   "outputs": [],
   "source": [
    "for cluster, imgs in clustered_images.items():\n",
    "    print(f'{cluster}: {len(imgs)}')\n",
    "\n",
    "show_clustered_imgs(clustered_images, clustered_fake_images)"
   ]
  },
  {
   "cell_type": "code",
   "execution_count": null,
   "id": "selective-procedure",
   "metadata": {
    "ExecuteTime": {
     "end_time": "2021-03-09T21:14:11.911033Z",
     "start_time": "2021-03-09T21:14:11.908033Z"
    }
   },
   "outputs": [],
   "source": [
    "# adrcjenxlz.mp4 - bad example, keep to display\n",
    "# xifuovpydw.mp4"
   ]
  },
  {
   "cell_type": "markdown",
   "id": "realistic-holly",
   "metadata": {},
   "source": [
    "## Plotting face difference between fake and real"
   ]
  },
  {
   "cell_type": "code",
   "execution_count": null,
   "id": "outer-tunisia",
   "metadata": {
    "ExecuteTime": {
     "end_time": "2021-03-09T18:31:49.208583Z",
     "start_time": "2021-03-09T18:31:49.037583Z"
    }
   },
   "outputs": [],
   "source": [
    "diff_fakes = []\n",
    "diff_reals = []\n",
    "diff_other = []\n",
    "\n",
    "for f, r in zip(fakes, reals):\n",
    "    assert f.split('mp4_')[-1] == r.split('mp4_')[-1], f'Fake: {f}, real: {r}'\n",
    "        \n",
    "    fake_face = Face(f)\n",
    "    real_face = Face(r)\n",
    "    diff = np.sum((fake_face - real_face).astype('int')) \n",
    "    \n",
    "    identifier = f.split('_')[-1]\n",
    "    if identifier == '0.jpg':\n",
    "        diff_reals.append(diff)\n",
    "        \n",
    "    elif identifier == '1.jpg':\n",
    "        diff_fakes.append(diff)\n",
    "    else:\n",
    "        diff_other.append(diff)\n",
    "\n",
    "plt.figure(figsize=(16,8))\n",
    "plt.plot(diff_reals, label='0')\n",
    "plt.plot(diff_fakes, label='1')\n",
    "plt.plot(diff_other, label='other')\n",
    "plt.legend()"
   ]
  },
  {
   "cell_type": "markdown",
   "id": "generous-three",
   "metadata": {},
   "source": [
    "## Analyzing face position data"
   ]
  },
  {
   "cell_type": "code",
   "execution_count": null,
   "id": "muslim-novelty",
   "metadata": {
    "ExecuteTime": {
     "end_time": "2021-03-09T22:19:40.929635Z",
     "start_time": "2021-03-09T22:19:40.922634Z"
    }
   },
   "outputs": [],
   "source": [
    "from utils import get_frames\n",
    "\n",
    "\n",
    "class VideoReader:\n",
    "    def __init__(self, name):\n",
    "        self.name = name\n",
    "        self.path = os.path.join(os.path.dirname(config.VIDEO_PATH), name)\n",
    "        self.label = metadata[name][0]\n",
    "        self.original = metadata[name][1]\n",
    "        self.frames = get_frames(self.path)\n",
    "        self.face_centers = []\n",
    "        self.cluster_labels = None\n",
    "        \n",
    "        if self.label == 'REAL':\n",
    "            self.coordinates = face_coordinates.loc[name].values\n",
    "        else:\n",
    "            self.coordinates = face_coordinates.loc[self.original].values\n",
    "\n",
    "    def __get__(self, frame_id):\n",
    "        return self.coordinates[frame_id]\n",
    "\n",
    "    def get_face(self, frame_id, face_id=None):\n",
    "        faces = []\n",
    "        for i, c in enumerate(self.coordinates[frame_id]):\n",
    "            if face_id is not None and i != face_id:\n",
    "                continue\n",
    "            faces.append(self.frames[frame_id].crop(c))\n",
    "        return faces\n",
    "\n",
    "    def get_all_faces(self):\n",
    "        faces = []\n",
    "\n",
    "        for i, frame in enumerate(self.coordinates):\n",
    "            for face in frame:\n",
    "                faces.append(self.frames[i].crop(face))\n",
    "        return faces\n",
    "\n",
    "    def calculate_face_centers(self):\n",
    "        for frame in self.coordinates:\n",
    "            for face in frame:\n",
    "                self.face_centers.append([(face[0] + face[2]) / 2,\n",
    "                                          (face[1] + face[3]) / 2])\n",
    "\n",
    "    def _cluster(self, threshold=50, linkage='average'):\n",
    "        self.cluster_labels = AgglomerativeClustering(n_clusters=None,\n",
    "                                                distance_threshold=threshold,\n",
    "                                                linkage=linkage).fit(self.face_centers).labels_\n",
    "\n",
    "    # TODO: Add label option for fake videos\n",
    "    def cluster_faces(self):\n",
    "        \n",
    "        clusters = {}\n",
    "        self.calculate_face_centers()\n",
    "        self._cluster()\n",
    "        faces = self.get_all_faces()\n",
    "        \n",
    "        for label, face in zip(self.cluster_labels, faces):\n",
    "            if clusters.get(label, None) is None:\n",
    "                clusters[label] = []\n",
    "            clusters[label].append(face)\n",
    "        return clusters\n",
    "\n",
    "    def play(self):\n",
    "        return Video(self.path, embed=True, width=640)"
   ]
  },
  {
   "cell_type": "code",
   "execution_count": null,
   "id": "israeli-legislature",
   "metadata": {
    "ExecuteTime": {
     "end_time": "2021-03-09T22:19:06.495583Z",
     "start_time": "2021-03-09T22:18:09.715073Z"
    }
   },
   "outputs": [],
   "source": [
    "too_many_clusters = []\n",
    "\n",
    "for fake_name, real_name in multiple_face_videos:\n",
    "    real_video = VideoReader(real_name)\n",
    "    real_clusters = real_video.cluster_faces()\n",
    "    if len(real_clusters) > 4:\n",
    "        too_many_clusters.append([real_name, fake_name, len(real_clusters)])\n",
    "        print(real_name, fake_name, len(real_clusters))"
   ]
  },
  {
   "cell_type": "code",
   "execution_count": null,
   "id": "valued-tongue",
   "metadata": {
    "ExecuteTime": {
     "end_time": "2021-03-09T22:15:58.607705Z",
     "start_time": "2021-03-09T22:15:58.514706Z"
    }
   },
   "outputs": [],
   "source": [
    "face_coordinates = pd.read_json(config.FACE_COORDINATES_PATH).T\n",
    "fake_name, real_name = multiple_face_videos[7]\n",
    "# fake_name = 'jjgtlwcvcd.mp4'\n",
    "# real_name = metadata['jjgtlwcvcd.mp4'][1]"
   ]
  },
  {
   "cell_type": "code",
   "execution_count": null,
   "id": "tracked-simple",
   "metadata": {
    "ExecuteTime": {
     "end_time": "2021-03-09T22:15:59.715706Z",
     "start_time": "2021-03-09T22:15:59.115705Z"
    }
   },
   "outputs": [],
   "source": [
    "fake_video = VideoReader(fake_name)\n",
    "real_video = VideoReader(real_name)\n",
    "real_video.play()"
   ]
  },
  {
   "cell_type": "markdown",
   "id": "colonial-missouri",
   "metadata": {
    "ExecuteTime": {
     "end_time": "2021-03-09T22:13:42.374786Z",
     "start_time": "2021-03-09T22:13:42.362786Z"
    }
   },
   "source": [
    "### Cluster and display"
   ]
  },
  {
   "cell_type": "code",
   "execution_count": null,
   "id": "mounted-section",
   "metadata": {
    "ExecuteTime": {
     "end_time": "2021-03-09T22:20:57.959688Z",
     "start_time": "2021-03-09T22:20:49.091686Z"
    },
    "scrolled": false
   },
   "outputs": [],
   "source": [
    "# real_clusters = real_video.cluster_faces()\n",
    "# fake_clusters = fake_video.cluster_faces()\n",
    "\n",
    "fake_name, real_name, _ = too_many_clusters[2]\n",
    "\n",
    "fake_video = VideoReader(fake_name)\n",
    "real_video = VideoReader(real_name)\n",
    "real_clusters = real_video.cluster_faces()\n",
    "fake_clusters = fake_video.cluster_faces()\n",
    "\n",
    "cols = max([len(l) for l in real_clusters.values()])\n",
    "\n",
    "for k, v in real_clusters.items():\n",
    "    print(k)\n",
    "    display_images(v, cols=cols)\n",
    "    display_images(fake_clusters[k], cols=cols)"
   ]
  },
  {
   "cell_type": "code",
   "execution_count": null,
   "id": "british-colors",
   "metadata": {
    "ExecuteTime": {
     "end_time": "2021-03-09T20:57:02.892100Z",
     "start_time": "2021-03-09T20:57:02.802103Z"
    },
    "scrolled": true
   },
   "outputs": [],
   "source": [
    "plt.figure(figsize=(16,6))\n",
    "plt.plot(centers, marker='x')\n"
   ]
  },
  {
   "cell_type": "code",
   "execution_count": null,
   "id": "convertible-humor",
   "metadata": {
    "ExecuteTime": {
     "end_time": "2021-03-09T20:57:14.082117Z",
     "start_time": "2021-03-09T20:57:07.306102Z"
    },
    "scrolled": true
   },
   "outputs": [],
   "source": [
    "clustered_images, clustered_fake_images = cluster_imgs(clustered_coord)\n",
    "show_clustered_imgs(clustered_images, clustered_fake_images)"
   ]
  },
  {
   "cell_type": "code",
   "execution_count": null,
   "id": "median-petite",
   "metadata": {
    "ExecuteTime": {
     "end_time": "2021-03-09T20:56:47.977100Z",
     "start_time": "2021-03-09T20:56:47.907102Z"
    },
    "scrolled": true
   },
   "outputs": [],
   "source": [
    "Video(f'D:\\\\DFDC\\\\dfdc_train_part_48/{real_name}', embed=True, width=640)"
   ]
  },
  {
   "cell_type": "code",
   "execution_count": null,
   "id": "public-demonstration",
   "metadata": {
    "ExecuteTime": {
     "end_time": "2021-03-09T20:56:33.872989Z",
     "start_time": "2021-03-09T20:56:33.820989Z"
    },
    "scrolled": true
   },
   "outputs": [],
   "source": [
    "Video(f'D:\\\\DFDC\\\\dfdc_train_part_48/{fake_name}', embed=True, width=640)"
   ]
  },
  {
   "cell_type": "markdown",
   "id": "royal-denial",
   "metadata": {},
   "source": [
    "## Distance between face encodings"
   ]
  },
  {
   "cell_type": "code",
   "execution_count": null,
   "id": "brief-couple",
   "metadata": {
    "ExecuteTime": {
     "end_time": "2021-03-09T18:32:15.729641Z",
     "start_time": "2021-03-09T18:31:55.533597Z"
    }
   },
   "outputs": [],
   "source": [
    "for i, (f, r) in enumerate(zip(fakes, reals)):\n",
    "    fake_encoding = rec.get_encoding(f)\n",
    "    real_encoding = rec.get_encoding(r)\n",
    "    distance = np.linalg.norm(fake_encoding - real_encoding)\n",
    "    \n",
    "    img1 = cv2.imread(f)\n",
    "    img2 = cv2.imread(f)\n",
    "    cv2.imwrite(f'test/{i}_{distance}.jpg', np.hstack((img1, img2)))"
   ]
  },
  {
   "cell_type": "code",
   "execution_count": null,
   "id": "minus-andorra",
   "metadata": {
    "ExecuteTime": {
     "end_time": "2021-03-09T18:32:16.460643Z",
     "start_time": "2021-03-09T18:32:15.808642Z"
    },
    "scrolled": true
   },
   "outputs": [],
   "source": [
    "import matplotlib.pyplot as plt\n",
    "\n",
    "plt.figure(figsize=(24,8))\n",
    "fake_encoding = rec.get_encoding(fakes[0])\n",
    "real_encoding = rec.get_encoding(reals[0])\n",
    "\n",
    "plt.scatter(np.arange(len(fake_encoding)), fake_encoding)\n",
    "plt.scatter(np.arange(len(real_encoding)), real_encoding)"
   ]
  },
  {
   "cell_type": "markdown",
   "id": "optional-decimal",
   "metadata": {},
   "source": [
    "# Possible cases\n",
    "\n",
    "\n",
    "1. Single cluster\n",
    "     1. single face - keep all\n",
    "     2. multiple faces \n",
    "     3. single face & non-face\n",
    "    \n",
    "    \n",
    "4. Multiple clusters\n",
    "    1. Single face divided\n",
    "    2. Single face cluster majority + artifact - keep majority\n",
    "    3. Single face cluster + equally big artifact \n",
    "    4. Same length face clusters\n",
    "    5. 2 same length face clusters + smaller artifact cluster\n"
   ]
  }
 ],
 "metadata": {
  "kernelspec": {
   "display_name": "Python 3",
   "language": "python",
   "name": "python3"
  },
  "language_info": {
   "codemirror_mode": {
    "name": "ipython",
    "version": 3
   },
   "file_extension": ".py",
   "mimetype": "text/x-python",
   "name": "python",
   "nbconvert_exporter": "python",
   "pygments_lexer": "ipython3",
   "version": "3.7.5"
  },
  "toc": {
   "base_numbering": 1,
   "nav_menu": {},
   "number_sections": true,
   "sideBar": true,
   "skip_h1_title": false,
   "title_cell": "Table of Contents",
   "title_sidebar": "Contents",
   "toc_cell": false,
   "toc_position": {},
   "toc_section_display": true,
   "toc_window_display": true
  },
  "varInspector": {
   "cols": {
    "lenName": 16,
    "lenType": 16,
    "lenVar": 40
   },
   "kernels_config": {
    "python": {
     "delete_cmd_postfix": "",
     "delete_cmd_prefix": "del ",
     "library": "var_list.py",
     "varRefreshCmd": "print(var_dic_list())"
    },
    "r": {
     "delete_cmd_postfix": ") ",
     "delete_cmd_prefix": "rm(",
     "library": "var_list.r",
     "varRefreshCmd": "cat(var_dic_list()) "
    }
   },
   "position": {
    "height": "506.984px",
    "left": "1495.98px",
    "right": "20px",
    "top": "104.984px",
    "width": "350px"
   },
   "types_to_exclude": [
    "module",
    "function",
    "builtin_function_or_method",
    "instance",
    "_Feature"
   ],
   "window_display": true
  }
 },
 "nbformat": 4,
 "nbformat_minor": 5
}
