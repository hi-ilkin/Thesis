{
 "cells": [
  {
   "cell_type": "code",
   "execution_count": 17,
   "metadata": {
    "ExecuteTime": {
     "end_time": "2021-01-17T14:38:30.437938Z",
     "start_time": "2021-01-17T14:38:30.425106Z"
    }
   },
   "outputs": [],
   "source": [
    "import os\n",
    "import glob\n",
    "import json\n",
    "import random\n",
    "from IPython.display import Video\n",
    "    \n",
    "videos = glob.glob(\"Data/dfdc_train_part_0/*.mp4\")"
   ]
  },
  {
   "cell_type": "code",
   "execution_count": 12,
   "metadata": {
    "ExecuteTime": {
     "end_time": "2021-01-17T14:38:08.569778Z",
     "start_time": "2021-01-17T14:38:08.564757Z"
    }
   },
   "outputs": [],
   "source": [
    "metadata = json.load(open('Data/dfdc_train_part_0/metadata.json'))"
   ]
  },
  {
   "cell_type": "code",
   "execution_count": 24,
   "metadata": {
    "ExecuteTime": {
     "end_time": "2021-01-17T14:41:22.025497Z",
     "start_time": "2021-01-17T14:41:22.007546Z"
    }
   },
   "outputs": [
    {
     "name": "stdout",
     "output_type": "stream",
     "text": [
      "Video pzqxrczvxb.mp4 is fake. Original: xjzkfqddyk.mp4\n"
     ]
    },
    {
     "data": {
      "text/html": [
       "<video src=\"Data/dfdc_train_part_0\\pzqxrczvxb.mp4\" controls  width=\"600\"  height=\"400\">\n",
       "      Your browser does not support the <code>video</code> element.\n",
       "    </video>"
      ],
      "text/plain": [
       "<IPython.core.display.Video object>"
      ]
     },
     "execution_count": 24,
     "metadata": {},
     "output_type": "execute_result"
    }
   ],
   "source": [
    "video_path = (videos[random.randint(0, len(videos))])\n",
    "video_key = os.path.basename(video_path)\n",
    "\n",
    "label = metadata[video_key]['label']\n",
    "\n",
    "if label == 'FAKE':\n",
    "    original = metadata[video_key]['original']\n",
    "    print(f\"Video {video_key} is fake. Original: {original}\")\n",
    "    Video(f\"Data/dfdc_train_part_0/{original}\", width=600, height=400)\n",
    "else:\n",
    "    print(f\"Video {video_key} is real.\")\n",
    "Video(video_path, width=600, height=400)"
   ]
  }
 ],
 "metadata": {
  "kernelspec": {
   "display_name": "Python 3",
   "language": "python",
   "name": "python3"
  },
  "language_info": {
   "codemirror_mode": {
    "name": "ipython",
    "version": 3
   },
   "file_extension": ".py",
   "mimetype": "text/x-python",
   "name": "python",
   "nbconvert_exporter": "python",
   "pygments_lexer": "ipython3",
   "version": "3.8.6"
  },
  "toc": {
   "base_numbering": 1,
   "nav_menu": {},
   "number_sections": true,
   "sideBar": true,
   "skip_h1_title": false,
   "title_cell": "Table of Contents",
   "title_sidebar": "Contents",
   "toc_cell": false,
   "toc_position": {},
   "toc_section_display": true,
   "toc_window_display": false
  },
  "varInspector": {
   "cols": {
    "lenName": 16,
    "lenType": 16,
    "lenVar": 40
   },
   "kernels_config": {
    "python": {
     "delete_cmd_postfix": "",
     "delete_cmd_prefix": "del ",
     "library": "var_list.py",
     "varRefreshCmd": "print(var_dic_list())"
    },
    "r": {
     "delete_cmd_postfix": ") ",
     "delete_cmd_prefix": "rm(",
     "library": "var_list.r",
     "varRefreshCmd": "cat(var_dic_list()) "
    }
   },
   "types_to_exclude": [
    "module",
    "function",
    "builtin_function_or_method",
    "instance",
    "_Feature"
   ],
   "window_display": false
  }
 },
 "nbformat": 4,
 "nbformat_minor": 4
}
